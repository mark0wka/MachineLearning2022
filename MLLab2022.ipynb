{
 "cells": [
  {
   "cell_type": "code",
   "execution_count": 51,
   "id": "c2984207",
   "metadata": {},
   "outputs": [],
   "source": [
    "import numpy as np\n",
    "import matplotlib.pyplot as plt\n",
    "%matplotlib inline \n",
    "import pandas as pd\n",
    "import seaborn as sns\n",
    "import sklearn"
   ]
  },
  {
   "cell_type": "markdown",
   "id": "2bceec42",
   "metadata": {},
   "source": [
    "## 0. Описание задачи\n",
    "Задача заключается в предсказании возникновения страхового случая в зависимости от параметров (названия и типа агентства, канала распространения страховки, названия страхового продукта и т.п.)"
   ]
  },
  {
   "cell_type": "markdown",
   "id": "69ed03eb",
   "metadata": {},
   "source": [
    "## 1. Чтение данных\n"
   ]
  },
  {
   "cell_type": "markdown",
   "id": "710b22f0",
   "metadata": {},
   "source": [
    "Загружаем датасет"
   ]
  },
  {
   "cell_type": "code",
   "execution_count": 52,
   "id": "df734da9",
   "metadata": {
    "scrolled": true
   },
   "outputs": [
    {
     "data": {
      "text/plain": [
       "(63326, 11)"
      ]
     },
     "execution_count": 52,
     "metadata": {},
     "output_type": "execute_result"
    }
   ],
   "source": [
    "url = 'https://github.com/mark0wka/MachineLearning2022/raw/main/travel%20insurance.csv'\n",
    "data_raw = pd.read_csv(url)\n",
    "data_raw.shape"
   ]
  },
  {
   "cell_type": "markdown",
   "id": "31f66b4c",
   "metadata": {},
   "source": [
    "В датасете 63326 объектов с 11 признаков."
   ]
  },
  {
   "cell_type": "code",
   "execution_count": 53,
   "id": "cc8853ca",
   "metadata": {
    "scrolled": true
   },
   "outputs": [
    {
     "data": {
      "text/html": [
       "<div>\n",
       "<style scoped>\n",
       "    .dataframe tbody tr th:only-of-type {\n",
       "        vertical-align: middle;\n",
       "    }\n",
       "\n",
       "    .dataframe tbody tr th {\n",
       "        vertical-align: top;\n",
       "    }\n",
       "\n",
       "    .dataframe thead th {\n",
       "        text-align: right;\n",
       "    }\n",
       "</style>\n",
       "<table border=\"1\" class=\"dataframe\">\n",
       "  <thead>\n",
       "    <tr style=\"text-align: right;\">\n",
       "      <th></th>\n",
       "      <th>Agency</th>\n",
       "      <th>Agency Type</th>\n",
       "      <th>Distribution Channel</th>\n",
       "      <th>Product Name</th>\n",
       "      <th>Claim</th>\n",
       "      <th>Duration</th>\n",
       "      <th>Destination</th>\n",
       "      <th>Net Sales</th>\n",
       "      <th>Commision (in value)</th>\n",
       "      <th>Gender</th>\n",
       "      <th>Age</th>\n",
       "    </tr>\n",
       "  </thead>\n",
       "  <tbody>\n",
       "    <tr>\n",
       "      <th>0</th>\n",
       "      <td>CBH</td>\n",
       "      <td>Travel Agency</td>\n",
       "      <td>Offline</td>\n",
       "      <td>Comprehensive Plan</td>\n",
       "      <td>No</td>\n",
       "      <td>186</td>\n",
       "      <td>MALAYSIA</td>\n",
       "      <td>-29.0</td>\n",
       "      <td>9.57</td>\n",
       "      <td>F</td>\n",
       "      <td>81</td>\n",
       "    </tr>\n",
       "    <tr>\n",
       "      <th>1</th>\n",
       "      <td>CBH</td>\n",
       "      <td>Travel Agency</td>\n",
       "      <td>Offline</td>\n",
       "      <td>Comprehensive Plan</td>\n",
       "      <td>No</td>\n",
       "      <td>186</td>\n",
       "      <td>MALAYSIA</td>\n",
       "      <td>-29.0</td>\n",
       "      <td>9.57</td>\n",
       "      <td>F</td>\n",
       "      <td>71</td>\n",
       "    </tr>\n",
       "    <tr>\n",
       "      <th>2</th>\n",
       "      <td>CWT</td>\n",
       "      <td>Travel Agency</td>\n",
       "      <td>Online</td>\n",
       "      <td>Rental Vehicle Excess Insurance</td>\n",
       "      <td>No</td>\n",
       "      <td>65</td>\n",
       "      <td>AUSTRALIA</td>\n",
       "      <td>-49.5</td>\n",
       "      <td>29.70</td>\n",
       "      <td>NaN</td>\n",
       "      <td>32</td>\n",
       "    </tr>\n",
       "    <tr>\n",
       "      <th>3</th>\n",
       "      <td>CWT</td>\n",
       "      <td>Travel Agency</td>\n",
       "      <td>Online</td>\n",
       "      <td>Rental Vehicle Excess Insurance</td>\n",
       "      <td>No</td>\n",
       "      <td>60</td>\n",
       "      <td>AUSTRALIA</td>\n",
       "      <td>-39.6</td>\n",
       "      <td>23.76</td>\n",
       "      <td>NaN</td>\n",
       "      <td>32</td>\n",
       "    </tr>\n",
       "    <tr>\n",
       "      <th>4</th>\n",
       "      <td>CWT</td>\n",
       "      <td>Travel Agency</td>\n",
       "      <td>Online</td>\n",
       "      <td>Rental Vehicle Excess Insurance</td>\n",
       "      <td>No</td>\n",
       "      <td>79</td>\n",
       "      <td>ITALY</td>\n",
       "      <td>-19.8</td>\n",
       "      <td>11.88</td>\n",
       "      <td>NaN</td>\n",
       "      <td>41</td>\n",
       "    </tr>\n",
       "    <tr>\n",
       "      <th>...</th>\n",
       "      <td>...</td>\n",
       "      <td>...</td>\n",
       "      <td>...</td>\n",
       "      <td>...</td>\n",
       "      <td>...</td>\n",
       "      <td>...</td>\n",
       "      <td>...</td>\n",
       "      <td>...</td>\n",
       "      <td>...</td>\n",
       "      <td>...</td>\n",
       "      <td>...</td>\n",
       "    </tr>\n",
       "    <tr>\n",
       "      <th>63321</th>\n",
       "      <td>JZI</td>\n",
       "      <td>Airlines</td>\n",
       "      <td>Online</td>\n",
       "      <td>Basic Plan</td>\n",
       "      <td>No</td>\n",
       "      <td>111</td>\n",
       "      <td>JAPAN</td>\n",
       "      <td>35.0</td>\n",
       "      <td>12.25</td>\n",
       "      <td>M</td>\n",
       "      <td>31</td>\n",
       "    </tr>\n",
       "    <tr>\n",
       "      <th>63322</th>\n",
       "      <td>JZI</td>\n",
       "      <td>Airlines</td>\n",
       "      <td>Online</td>\n",
       "      <td>Basic Plan</td>\n",
       "      <td>No</td>\n",
       "      <td>58</td>\n",
       "      <td>CHINA</td>\n",
       "      <td>40.0</td>\n",
       "      <td>14.00</td>\n",
       "      <td>F</td>\n",
       "      <td>40</td>\n",
       "    </tr>\n",
       "    <tr>\n",
       "      <th>63323</th>\n",
       "      <td>JZI</td>\n",
       "      <td>Airlines</td>\n",
       "      <td>Online</td>\n",
       "      <td>Basic Plan</td>\n",
       "      <td>No</td>\n",
       "      <td>2</td>\n",
       "      <td>MALAYSIA</td>\n",
       "      <td>18.0</td>\n",
       "      <td>6.30</td>\n",
       "      <td>M</td>\n",
       "      <td>57</td>\n",
       "    </tr>\n",
       "    <tr>\n",
       "      <th>63324</th>\n",
       "      <td>JZI</td>\n",
       "      <td>Airlines</td>\n",
       "      <td>Online</td>\n",
       "      <td>Basic Plan</td>\n",
       "      <td>No</td>\n",
       "      <td>3</td>\n",
       "      <td>VIET NAM</td>\n",
       "      <td>18.0</td>\n",
       "      <td>6.30</td>\n",
       "      <td>M</td>\n",
       "      <td>63</td>\n",
       "    </tr>\n",
       "    <tr>\n",
       "      <th>63325</th>\n",
       "      <td>JZI</td>\n",
       "      <td>Airlines</td>\n",
       "      <td>Online</td>\n",
       "      <td>Basic Plan</td>\n",
       "      <td>No</td>\n",
       "      <td>22</td>\n",
       "      <td>HONG KONG</td>\n",
       "      <td>26.0</td>\n",
       "      <td>9.10</td>\n",
       "      <td>F</td>\n",
       "      <td>35</td>\n",
       "    </tr>\n",
       "  </tbody>\n",
       "</table>\n",
       "<p>63326 rows × 11 columns</p>\n",
       "</div>"
      ],
      "text/plain": [
       "      Agency    Agency Type Distribution Channel  \\\n",
       "0        CBH  Travel Agency              Offline   \n",
       "1        CBH  Travel Agency              Offline   \n",
       "2        CWT  Travel Agency               Online   \n",
       "3        CWT  Travel Agency               Online   \n",
       "4        CWT  Travel Agency               Online   \n",
       "...      ...            ...                  ...   \n",
       "63321    JZI       Airlines               Online   \n",
       "63322    JZI       Airlines               Online   \n",
       "63323    JZI       Airlines               Online   \n",
       "63324    JZI       Airlines               Online   \n",
       "63325    JZI       Airlines               Online   \n",
       "\n",
       "                          Product Name Claim  Duration Destination  Net Sales  \\\n",
       "0                   Comprehensive Plan    No       186    MALAYSIA      -29.0   \n",
       "1                   Comprehensive Plan    No       186    MALAYSIA      -29.0   \n",
       "2      Rental Vehicle Excess Insurance    No        65   AUSTRALIA      -49.5   \n",
       "3      Rental Vehicle Excess Insurance    No        60   AUSTRALIA      -39.6   \n",
       "4      Rental Vehicle Excess Insurance    No        79       ITALY      -19.8   \n",
       "...                                ...   ...       ...         ...        ...   \n",
       "63321                       Basic Plan    No       111       JAPAN       35.0   \n",
       "63322                       Basic Plan    No        58       CHINA       40.0   \n",
       "63323                       Basic Plan    No         2    MALAYSIA       18.0   \n",
       "63324                       Basic Plan    No         3    VIET NAM       18.0   \n",
       "63325                       Basic Plan    No        22   HONG KONG       26.0   \n",
       "\n",
       "       Commision (in value) Gender  Age  \n",
       "0                      9.57      F   81  \n",
       "1                      9.57      F   71  \n",
       "2                     29.70    NaN   32  \n",
       "3                     23.76    NaN   32  \n",
       "4                     11.88    NaN   41  \n",
       "...                     ...    ...  ...  \n",
       "63321                 12.25      M   31  \n",
       "63322                 14.00      F   40  \n",
       "63323                  6.30      M   57  \n",
       "63324                  6.30      M   63  \n",
       "63325                  9.10      F   35  \n",
       "\n",
       "[63326 rows x 11 columns]"
      ]
     },
     "execution_count": 53,
     "metadata": {},
     "output_type": "execute_result"
    }
   ],
   "source": [
    "data_raw"
   ]
  },
  {
   "cell_type": "markdown",
   "id": "8592c46f",
   "metadata": {},
   "source": [
    "Признаки:\n",
    "1. Agency - название страхового агентства (категориальный)\n",
    "2. Agency Type - тип страхового агентства (бинарный категориальный)\n",
    "3. Distribution Channel - канал продажи страховки (бинарный категориальный)\n",
    "4. Product Name - название страхового продукта (категориальный)\n",
    "5. Claim - наступление страхового случая\n",
    "6. Duration - длительность путешествия (численный)\n",
    "7. Destination - страна назачения (в которую осуществляется путешествие) (категориальный)\n",
    "8. Net Sales - прибыль агентства от продажи полиса (численный)\n",
    "9. Commission - комиссия, которую получило страховое агентство (численный)\n",
    "10. Gender - пол застрахованного лица (бинарный категориальный)\n",
    "11. Age - возраст застрахованного лица (численный)"
   ]
  },
  {
   "cell_type": "code",
   "execution_count": 54,
   "id": "55c31bd5",
   "metadata": {
    "scrolled": false
   },
   "outputs": [
    {
     "data": {
      "text/plain": [
       "Index(['Agency', 'Agency Type', 'Distribution Channel', 'Product Name',\n",
       "       'Claim', 'Duration', 'Destination', 'Net Sales', 'Commision (in value)',\n",
       "       'Gender', 'Age'],\n",
       "      dtype='object')"
      ]
     },
     "execution_count": 54,
     "metadata": {},
     "output_type": "execute_result"
    }
   ],
   "source": [
    "data_raw.columns"
   ]
  },
  {
   "cell_type": "markdown",
   "id": "bea0b164",
   "metadata": {},
   "source": [
    "Заменяем название столбца 'Commision (in value)' на 'Commision', чтобы избавиться от скобок:"
   ]
  },
  {
   "cell_type": "code",
   "execution_count": 55,
   "id": "1076f5d7",
   "metadata": {},
   "outputs": [],
   "source": [
    "data_raw.columns = ['Agency', 'Agency Type', 'Distribution Channel', 'Product Name',\n",
    "       'Claim', 'Duration', 'Destination', 'Net Sales', 'Commision',\n",
    "       'Gender', 'Age']"
   ]
  },
  {
   "cell_type": "code",
   "execution_count": 56,
   "id": "99264044",
   "metadata": {},
   "outputs": [
    {
     "data": {
      "text/plain": [
       "RangeIndex(start=0, stop=63326, step=1)"
      ]
     },
     "execution_count": 56,
     "metadata": {},
     "output_type": "execute_result"
    }
   ],
   "source": [
    "data_raw.index"
   ]
  },
  {
   "cell_type": "code",
   "execution_count": 57,
   "id": "bb606f32",
   "metadata": {
    "scrolled": true
   },
   "outputs": [
    {
     "name": "stdout",
     "output_type": "stream",
     "text": [
      "<class 'pandas.core.frame.DataFrame'>\n",
      "RangeIndex: 63326 entries, 0 to 63325\n",
      "Data columns (total 11 columns):\n",
      " #   Column                Non-Null Count  Dtype  \n",
      "---  ------                --------------  -----  \n",
      " 0   Agency                63326 non-null  object \n",
      " 1   Agency Type           63326 non-null  object \n",
      " 2   Distribution Channel  63326 non-null  object \n",
      " 3   Product Name          63326 non-null  object \n",
      " 4   Claim                 63326 non-null  object \n",
      " 5   Duration              63326 non-null  int64  \n",
      " 6   Destination           63326 non-null  object \n",
      " 7   Net Sales             63326 non-null  float64\n",
      " 8   Commision             63326 non-null  float64\n",
      " 9   Gender                18219 non-null  object \n",
      " 10  Age                   63326 non-null  int64  \n",
      "dtypes: float64(2), int64(2), object(7)\n",
      "memory usage: 5.3+ MB\n"
     ]
    }
   ],
   "source": [
    "data_raw.info()"
   ]
  },
  {
   "cell_type": "markdown",
   "id": "bb88cdfa",
   "metadata": {},
   "source": [
    "## Обработка выбросов\n",
    "Выведем графики зависимости числовых признаков от целевого признака Claim и посчитаем для них квантили."
   ]
  },
  {
   "cell_type": "code",
   "execution_count": 58,
   "id": "6b3c1625",
   "metadata": {
    "scrolled": false
   },
   "outputs": [
    {
     "data": {
      "image/png": "[encoded data removed]",
      "text/plain": [
       "<Figure size 432x288 with 1 Axes>"
      ]
     },
     "metadata": {
      "needs_background": "light"
     },
     "output_type": "display_data"
    }
   ],
   "source": [
    "plt.scatter(data_raw['Duration'], data_raw['Claim'], alpha=0.2)\n",
    "pass"
   ]
  },
  {
   "cell_type": "markdown",
   "id": "b7ebd477",
   "metadata": {},
   "source": [
    "Присутствуют выбросы в правой нижней части графика. Стоит предполагать, что путешествия больше 4000 дней, вероятно, являются ошибкой в данных."
   ]
  },
  {
   "cell_type": "code",
   "execution_count": 59,
   "id": "de6064e9",
   "metadata": {},
   "outputs": [
    {
     "data": {
      "text/plain": [
       "0.005      1.0\n",
       "0.010      1.0\n",
       "0.050      3.0\n",
       "0.100      5.0\n",
       "0.500     22.0\n",
       "0.900    109.0\n",
       "0.950    190.0\n",
       "0.990    374.0\n",
       "0.995    388.0\n",
       "Name: Duration, dtype: float64"
      ]
     },
     "execution_count": 59,
     "metadata": {},
     "output_type": "execute_result"
    }
   ],
   "source": [
    "data_raw['Duration'].quantile([0.005,.01,.05,.1,.5,.9,.95,.99,.995])"
   ]
  },
  {
   "cell_type": "markdown",
   "id": "b3f0a64f",
   "metadata": {},
   "source": [
    "99,5% значений продолжительности путешествия меньше 388 дней. Значения больше этого можно выбросить."
   ]
  },
  {
   "cell_type": "code",
   "execution_count": 60,
   "id": "e6c87ee5",
   "metadata": {
    "scrolled": true
   },
   "outputs": [
    {
     "data": {
      "image/png": "[encoded data removed]",
      "text/plain": [
       "<Figure size 432x288 with 1 Axes>"
      ]
     },
     "metadata": {
      "needs_background": "light"
     },
     "output_type": "display_data"
    }
   ],
   "source": [
    "plt.scatter(data_raw['Net Sales'], data_raw['Claim'], alpha=0.5)\n",
    "pass"
   ]
  },
  {
   "cell_type": "markdown",
   "id": "03212049",
   "metadata": {},
   "source": [
    "На графике прибыли видны выбросы слева и справа снизу."
   ]
  },
  {
   "cell_type": "code",
   "execution_count": 61,
   "id": "1fe18e39",
   "metadata": {},
   "outputs": [
    {
     "data": {
      "text/plain": [
       "0.005    -49.5000\n",
       "0.010    -12.0000\n",
       "0.050      4.8825\n",
       "0.100     10.0000\n",
       "0.500     26.5300\n",
       "0.900     80.0000\n",
       "0.950    112.0000\n",
       "0.990    252.8500\n",
       "0.995    291.7500\n",
       "Name: Net Sales, dtype: float64"
      ]
     },
     "execution_count": 61,
     "metadata": {},
     "output_type": "execute_result"
    }
   ],
   "source": [
    "data_raw['Net Sales'].quantile([0.005,.01,.05,.1,.5,.9,.95,.99,.995])"
   ]
  },
  {
   "cell_type": "markdown",
   "id": "133baa36",
   "metadata": {},
   "source": [
    "99% значений лежат в пределах от -49.5 до 291.75."
   ]
  },
  {
   "cell_type": "code",
   "execution_count": 62,
   "id": "8640c7be",
   "metadata": {
    "scrolled": false
   },
   "outputs": [
    {
     "data": {
      "image/png": "[encoded data removed]",
      "text/plain": [
       "<Figure size 432x288 with 1 Axes>"
      ]
     },
     "metadata": {
      "needs_background": "light"
     },
     "output_type": "display_data"
    }
   ],
   "source": [
    "plt.scatter(data_raw['Age'], data_raw['Claim'], alpha=0.1)\n",
    "pass"
   ]
  },
  {
   "cell_type": "markdown",
   "id": "6746ce89",
   "metadata": {},
   "source": [
    "На графике возраста виден выброс около отметки в 120 лет. Скорее всего, это тоже ошибка в данных."
   ]
  },
  {
   "cell_type": "code",
   "execution_count": 63,
   "id": "53e6dd78",
   "metadata": {
    "scrolled": true
   },
   "outputs": [
    {
     "data": {
      "text/plain": [
       "0.005     20.0\n",
       "0.010     21.0\n",
       "0.050     25.0\n",
       "0.100     28.0\n",
       "0.500     36.0\n",
       "0.900     55.0\n",
       "0.950     63.0\n",
       "0.980     75.0\n",
       "0.995    118.0\n",
       "Name: Age, dtype: float64"
      ]
     },
     "execution_count": 63,
     "metadata": {},
     "output_type": "execute_result"
    }
   ],
   "source": [
    "data_raw['Age'].quantile([0.005,.01,.05,.1,.5,.9,.95,.98,.995])"
   ]
  },
  {
   "cell_type": "markdown",
   "id": "35be0037",
   "metadata": {},
   "source": [
    "Четкий выброс на графике соответствует возрасту 118 лет, 98% всех значений меньше. Также можно выбросить значения, которых меньше чем 0.5%"
   ]
  },
  {
   "cell_type": "code",
   "execution_count": 64,
   "id": "141b0aa2",
   "metadata": {},
   "outputs": [
    {
     "data": {
      "image/png": "[encoded data removed]",
      "text/plain": [
       "<Figure size 432x288 with 1 Axes>"
      ]
     },
     "metadata": {
      "needs_background": "light"
     },
     "output_type": "display_data"
    }
   ],
   "source": [
    "plt.scatter(data_raw['Commision'], data_raw['Claim'], alpha=0.5)\n",
    "pass"
   ]
  },
  {
   "cell_type": "markdown",
   "id": "15575fee",
   "metadata": {},
   "source": [
    "На графике значений комиссии справа присутствуют выбросы."
   ]
  },
  {
   "cell_type": "code",
   "execution_count": 65,
   "id": "a4cf4224",
   "metadata": {
    "scrolled": true
   },
   "outputs": [
    {
     "data": {
      "text/plain": [
       "0.005      0.00\n",
       "0.010      0.00\n",
       "0.050      0.00\n",
       "0.100      0.00\n",
       "0.500      0.00\n",
       "0.900     29.70\n",
       "0.950     51.13\n",
       "0.990     89.10\n",
       "0.995    112.86\n",
       "Name: Commision, dtype: float64"
      ]
     },
     "execution_count": 65,
     "metadata": {},
     "output_type": "execute_result"
    }
   ],
   "source": [
    "data_raw['Commision'].quantile([0.005,.01,.05,.1,.5,.9,.95,.99,.995])"
   ]
  },
  {
   "cell_type": "markdown",
   "id": "a80dc30a",
   "metadata": {},
   "source": [
    "99.5% значений меньше 112.86. Остальные значения можно выбросить."
   ]
  },
  {
   "cell_type": "markdown",
   "id": "fdd81b06",
   "metadata": {},
   "source": [
    "Удаляем строки таблицы, соответствующие выбросам"
   ]
  },
  {
   "cell_type": "code",
   "execution_count": 66,
   "id": "58ed36dc",
   "metadata": {},
   "outputs": [
    {
     "data": {
      "text/plain": [
       "(60782, 11)"
      ]
     },
     "execution_count": 66,
     "metadata": {},
     "output_type": "execute_result"
    }
   ],
   "source": [
    "rows_to_drop = data_raw[\n",
    "    (data_raw['Duration'] > data_raw['Duration'].quantile(0.995)) | \n",
    "    (data_raw['Net Sales']  < data_raw['Net Sales' ].quantile(0.005)) | (data_raw['Net Sales']  > data_raw['Net Sales' ].quantile(0.995)) | \n",
    "    (data_raw['Age']  < data_raw['Age' ].quantile(0.005)) | (data_raw['Age']  > data_raw['Age' ].quantile(0.98)) |\n",
    "    (data_raw['Commision']  > data_raw['Commision' ].quantile(0.995))].index\n",
    "data = data_raw.drop(rows_to_drop)\n",
    "data.shape"
   ]
  },
  {
   "cell_type": "markdown",
   "id": "e7a28b96",
   "metadata": {},
   "source": [
    "## Преобразование категориальных признаков"
   ]
  },
  {
   "cell_type": "markdown",
   "id": "f493ddc2",
   "metadata": {},
   "source": [
    "Преобразуем номинальные признаки в специальный категориальный тип. Сейчас они имеют тип объекта."
   ]
  },
  {
   "cell_type": "code",
   "execution_count": 67,
   "id": "a20b8e33",
   "metadata": {},
   "outputs": [],
   "source": [
    "data['Agency'] = data['Agency'].astype('category')\n",
    "data['Agency Type'] = data['Agency Type'].astype('category')\n",
    "data['Distribution Channel'] = data['Distribution Channel'].astype('category')\n",
    "data['Product Name'] = data['Product Name'].astype('category')\n",
    "data['Destination'] = data['Destination'].astype('category')\n",
    "data['Gender'] = data['Gender'].astype('category')"
   ]
  },
  {
   "cell_type": "code",
   "execution_count": 68,
   "id": "0c19058a",
   "metadata": {},
   "outputs": [
    {
     "data": {
      "text/plain": [
       "CategoricalDtype(categories=['F', 'M'], ordered=False)"
      ]
     },
     "execution_count": 68,
     "metadata": {},
     "output_type": "execute_result"
    }
   ],
   "source": [
    "data['Gender'].dtype"
   ]
  },
  {
   "cell_type": "markdown",
   "id": "5d2c0f17",
   "metadata": {},
   "source": [
    "# 2. Визуализация и вычисление основных характеристик"
   ]
  },
  {
   "cell_type": "code",
   "execution_count": 69,
   "id": "29dc9a66",
   "metadata": {
    "scrolled": true
   },
   "outputs": [
    {
     "data": {
      "text/html": [
       "<div>\n",
       "<style scoped>\n",
       "    .dataframe tbody tr th:only-of-type {\n",
       "        vertical-align: middle;\n",
       "    }\n",
       "\n",
       "    .dataframe tbody tr th {\n",
       "        vertical-align: top;\n",
       "    }\n",
       "\n",
       "    .dataframe thead th {\n",
       "        text-align: right;\n",
       "    }\n",
       "</style>\n",
       "<table border=\"1\" class=\"dataframe\">\n",
       "  <thead>\n",
       "    <tr style=\"text-align: right;\">\n",
       "      <th></th>\n",
       "      <th>Duration</th>\n",
       "      <th>Net Sales</th>\n",
       "      <th>Commision</th>\n",
       "      <th>Age</th>\n",
       "    </tr>\n",
       "  </thead>\n",
       "  <tbody>\n",
       "    <tr>\n",
       "      <th>count</th>\n",
       "      <td>60782.000000</td>\n",
       "      <td>60782.000000</td>\n",
       "      <td>60782.000000</td>\n",
       "      <td>60782.000000</td>\n",
       "    </tr>\n",
       "    <tr>\n",
       "      <th>mean</th>\n",
       "      <td>44.561745</td>\n",
       "      <td>38.383437</td>\n",
       "      <td>8.293383</td>\n",
       "      <td>38.630499</td>\n",
       "    </tr>\n",
       "    <tr>\n",
       "      <th>std</th>\n",
       "      <td>65.412176</td>\n",
       "      <td>38.869487</td>\n",
       "      <td>15.382017</td>\n",
       "      <td>9.615026</td>\n",
       "    </tr>\n",
       "    <tr>\n",
       "      <th>min</th>\n",
       "      <td>0.000000</td>\n",
       "      <td>-49.500000</td>\n",
       "      <td>0.000000</td>\n",
       "      <td>20.000000</td>\n",
       "    </tr>\n",
       "    <tr>\n",
       "      <th>25%</th>\n",
       "      <td>9.000000</td>\n",
       "      <td>18.000000</td>\n",
       "      <td>0.000000</td>\n",
       "      <td>35.000000</td>\n",
       "    </tr>\n",
       "    <tr>\n",
       "      <th>50%</th>\n",
       "      <td>22.000000</td>\n",
       "      <td>26.000000</td>\n",
       "      <td>0.000000</td>\n",
       "      <td>36.000000</td>\n",
       "    </tr>\n",
       "    <tr>\n",
       "      <th>75%</th>\n",
       "      <td>51.000000</td>\n",
       "      <td>46.000000</td>\n",
       "      <td>10.000000</td>\n",
       "      <td>42.000000</td>\n",
       "    </tr>\n",
       "    <tr>\n",
       "      <th>max</th>\n",
       "      <td>388.000000</td>\n",
       "      <td>291.750000</td>\n",
       "      <td>112.860000</td>\n",
       "      <td>75.000000</td>\n",
       "    </tr>\n",
       "  </tbody>\n",
       "</table>\n",
       "</div>"
      ],
      "text/plain": [
       "           Duration     Net Sales     Commision           Age\n",
       "count  60782.000000  60782.000000  60782.000000  60782.000000\n",
       "mean      44.561745     38.383437      8.293383     38.630499\n",
       "std       65.412176     38.869487     15.382017      9.615026\n",
       "min        0.000000    -49.500000      0.000000     20.000000\n",
       "25%        9.000000     18.000000      0.000000     35.000000\n",
       "50%       22.000000     26.000000      0.000000     36.000000\n",
       "75%       51.000000     46.000000     10.000000     42.000000\n",
       "max      388.000000    291.750000    112.860000     75.000000"
      ]
     },
     "execution_count": 69,
     "metadata": {},
     "output_type": "execute_result"
    }
   ],
   "source": [
    "data.describe()"
   ]
  },
  {
   "cell_type": "markdown",
   "id": "3b3640f4",
   "metadata": {},
   "source": [
    "В таблице показаны только численные признаки.\n",
    "Описание таблицы:\n",
    "1. Так как в рассматриваемом датасете пропуски присутствуют только в категориальном признаке Gender, то количество численных признаков одинаково и равно количеству всех строк в датасете\n",
    "2. Среднее значение\n",
    "3. Стандартное отклонение\n",
    "4. Минимальное значение\n",
    "5. Первый квартиль\n",
    "6. Медиана\n",
    "7. Третий квартиль\n",
    "8. Максимальное значение\n",
    "Стоит отметить, что как минимум в половине случаев агентство не брало комиссию за оформление полиса."
   ]
  },
  {
   "cell_type": "markdown",
   "id": "62354814",
   "metadata": {},
   "source": [
    "Выведем информацию для категориальных признаков:"
   ]
  },
  {
   "cell_type": "code",
   "execution_count": 70,
   "id": "74f9d4be",
   "metadata": {
    "scrolled": true
   },
   "outputs": [
    {
     "data": {
      "text/html": [
       "<div>\n",
       "<style scoped>\n",
       "    .dataframe tbody tr th:only-of-type {\n",
       "        vertical-align: middle;\n",
       "    }\n",
       "\n",
       "    .dataframe tbody tr th {\n",
       "        vertical-align: top;\n",
       "    }\n",
       "\n",
       "    .dataframe thead th {\n",
       "        text-align: right;\n",
       "    }\n",
       "</style>\n",
       "<table border=\"1\" class=\"dataframe\">\n",
       "  <thead>\n",
       "    <tr style=\"text-align: right;\">\n",
       "      <th></th>\n",
       "      <th>Agency</th>\n",
       "      <th>Agency Type</th>\n",
       "      <th>Distribution Channel</th>\n",
       "      <th>Product Name</th>\n",
       "      <th>Destination</th>\n",
       "      <th>Gender</th>\n",
       "    </tr>\n",
       "  </thead>\n",
       "  <tbody>\n",
       "    <tr>\n",
       "      <th>count</th>\n",
       "      <td>60782</td>\n",
       "      <td>60782</td>\n",
       "      <td>60782</td>\n",
       "      <td>60782</td>\n",
       "      <td>60782</td>\n",
       "      <td>16250</td>\n",
       "    </tr>\n",
       "    <tr>\n",
       "      <th>unique</th>\n",
       "      <td>15</td>\n",
       "      <td>2</td>\n",
       "      <td>2</td>\n",
       "      <td>24</td>\n",
       "      <td>146</td>\n",
       "      <td>2</td>\n",
       "    </tr>\n",
       "    <tr>\n",
       "      <th>top</th>\n",
       "      <td>EPX</td>\n",
       "      <td>Travel Agency</td>\n",
       "      <td>Online</td>\n",
       "      <td>Cancellation Plan</td>\n",
       "      <td>SINGAPORE</td>\n",
       "      <td>M</td>\n",
       "    </tr>\n",
       "    <tr>\n",
       "      <th>freq</th>\n",
       "      <td>34916</td>\n",
       "      <td>44978</td>\n",
       "      <td>59922</td>\n",
       "      <td>18538</td>\n",
       "      <td>12559</td>\n",
       "      <td>8257</td>\n",
       "    </tr>\n",
       "  </tbody>\n",
       "</table>\n",
       "</div>"
      ],
      "text/plain": [
       "       Agency    Agency Type Distribution Channel       Product Name  \\\n",
       "count   60782          60782                60782              60782   \n",
       "unique     15              2                    2                 24   \n",
       "top       EPX  Travel Agency               Online  Cancellation Plan   \n",
       "freq    34916          44978                59922              18538   \n",
       "\n",
       "       Destination Gender  \n",
       "count        60782  16250  \n",
       "unique         146      2  \n",
       "top      SINGAPORE      M  \n",
       "freq         12559   8257  "
      ]
     },
     "execution_count": 70,
     "metadata": {},
     "output_type": "execute_result"
    }
   ],
   "source": [
    "data.describe(include=['category'])"
   ]
  },
  {
   "cell_type": "markdown",
   "id": "0367a9ba",
   "metadata": {},
   "source": [
    "Описание таблицы:\n",
    "1. Количество строк, где признак указан. Видно, что признак Gender имеет довольно большое число пропусков значений\n",
    "2. Количество уникальных значений\n",
    "3. Наиболее часто встречающееся значение\n",
    "4. Частота этого значения"
   ]
  },
  {
   "cell_type": "markdown",
   "id": "48e67375",
   "metadata": {},
   "source": [
    "Выведем некоторые зависимости в виде графиков:"
   ]
  },
  {
   "cell_type": "code",
   "execution_count": 71,
   "id": "76a482d1",
   "metadata": {
    "scrolled": true
   },
   "outputs": [
    {
     "data": {
      "image/png": "[encoded data removed]",
      "text/plain": [
       "<Figure size 432x288 with 1 Axes>"
      ]
     },
     "metadata": {
      "needs_background": "light"
     },
     "output_type": "display_data"
    }
   ],
   "source": [
    "sns.countplot(x='Agency', data = data, order = data['Agency'].value_counts().index)\n",
    "pass"
   ]
  },
  {
   "cell_type": "code",
   "execution_count": 72,
   "id": "ef27b7a2",
   "metadata": {
    "scrolled": true
   },
   "outputs": [
    {
     "data": {
      "image/png": "[encoded data removed]",
      "text/plain": [
       "<Figure size 432x288 with 1 Axes>"
      ]
     },
     "metadata": {
      "needs_background": "light"
     },
     "output_type": "display_data"
    }
   ],
   "source": [
    "sns.countplot(x='Agency Type', data = data)\n",
    "pass"
   ]
  },
  {
   "cell_type": "code",
   "execution_count": 73,
   "id": "a68ccc7c",
   "metadata": {},
   "outputs": [
    {
     "data": {
      "image/png": "[encoded data removed]",
      "text/plain": [
       "<Figure size 432x288 with 1 Axes>"
      ]
     },
     "metadata": {
      "needs_background": "light"
     },
     "output_type": "display_data"
    }
   ],
   "source": [
    "sns.countplot(x='Distribution Channel', data = data)\n",
    "pass"
   ]
  },
  {
   "cell_type": "code",
   "execution_count": 74,
   "id": "c664edae",
   "metadata": {
    "scrolled": false
   },
   "outputs": [
    {
     "data": {
      "image/png": "[encoded data removed]",
      "text/plain": [
       "<Figure size 432x288 with 1 Axes>"
      ]
     },
     "metadata": {
      "needs_background": "light"
     },
     "output_type": "display_data"
    }
   ],
   "source": [
    "sns.countplot(x = 'Gender', data = data)\n",
    "pass"
   ]
  },
  {
   "cell_type": "markdown",
   "id": "8dc1943a",
   "metadata": {},
   "source": [
    "Выведем график всех пар. Для этого выделим случайное подмножество из датасета random_subset. Это необходимо для того, чтобы не загромождать графики и ускорить их обработку."
   ]
  },
  {
   "cell_type": "code",
   "execution_count": 75,
   "id": "211d9ca8",
   "metadata": {},
   "outputs": [],
   "source": [
    "np.random.seed(100)\n",
    "random_subset = np.random.choice(np.arange(data.shape[0]), size = 1000, replace = False)"
   ]
  },
  {
   "cell_type": "code",
   "execution_count": 76,
   "id": "8b4f35b3",
   "metadata": {
    "scrolled": false
   },
   "outputs": [
    {
     "data": {
      "image/png": "[encoded data removed]",
      "text/plain": [
       "<Figure size 772x720 with 20 Axes>"
      ]
     },
     "metadata": {
      "needs_background": "light"
     },
     "output_type": "display_data"
    }
   ],
   "source": [
    "sns.pairplot(data.iloc[random_subset], diag_kind = 'hist', hue = 'Claim')\n",
    "pass"
   ]
  },
  {
   "cell_type": "markdown",
   "id": "5dfdac0a",
   "metadata": {},
   "source": [
    "Посчитаем корреляционную матрицу:"
   ]
  },
  {
   "cell_type": "code",
   "execution_count": 77,
   "id": "31fc3b74",
   "metadata": {
    "scrolled": false
   },
   "outputs": [
    {
     "data": {
      "text/html": [
       "<div>\n",
       "<style scoped>\n",
       "    .dataframe tbody tr th:only-of-type {\n",
       "        vertical-align: middle;\n",
       "    }\n",
       "\n",
       "    .dataframe tbody tr th {\n",
       "        vertical-align: top;\n",
       "    }\n",
       "\n",
       "    .dataframe thead th {\n",
       "        text-align: right;\n",
       "    }\n",
       "</style>\n",
       "<table border=\"1\" class=\"dataframe\">\n",
       "  <thead>\n",
       "    <tr style=\"text-align: right;\">\n",
       "      <th></th>\n",
       "      <th>Duration</th>\n",
       "      <th>Net Sales</th>\n",
       "      <th>Commision</th>\n",
       "      <th>Age</th>\n",
       "    </tr>\n",
       "  </thead>\n",
       "  <tbody>\n",
       "    <tr>\n",
       "      <th>Duration</th>\n",
       "      <td>1.000000</td>\n",
       "      <td>0.565808</td>\n",
       "      <td>0.364603</td>\n",
       "      <td>0.014525</td>\n",
       "    </tr>\n",
       "    <tr>\n",
       "      <th>Net Sales</th>\n",
       "      <td>0.565808</td>\n",
       "      <td>1.000000</td>\n",
       "      <td>0.600208</td>\n",
       "      <td>0.024196</td>\n",
       "    </tr>\n",
       "    <tr>\n",
       "      <th>Commision</th>\n",
       "      <td>0.364603</td>\n",
       "      <td>0.600208</td>\n",
       "      <td>1.000000</td>\n",
       "      <td>0.127943</td>\n",
       "    </tr>\n",
       "    <tr>\n",
       "      <th>Age</th>\n",
       "      <td>0.014525</td>\n",
       "      <td>0.024196</td>\n",
       "      <td>0.127943</td>\n",
       "      <td>1.000000</td>\n",
       "    </tr>\n",
       "  </tbody>\n",
       "</table>\n",
       "</div>"
      ],
      "text/plain": [
       "           Duration  Net Sales  Commision       Age\n",
       "Duration   1.000000   0.565808   0.364603  0.014525\n",
       "Net Sales  0.565808   1.000000   0.600208  0.024196\n",
       "Commision  0.364603   0.600208   1.000000  0.127943\n",
       "Age        0.014525   0.024196   0.127943  1.000000"
      ]
     },
     "execution_count": 77,
     "metadata": {},
     "output_type": "execute_result"
    }
   ],
   "source": [
    "corr_matr = data.corr()\n",
    "corr_matr"
   ]
  },
  {
   "cell_type": "markdown",
   "id": "00af9ae6",
   "metadata": {},
   "source": [
    "Видно, что высокую степень корреляции (более 0.5) имеют следующие пары признаков: Duration и Net Sales, Net Sales и Commision. Эти признаки сильно связаны. Более слабую связь имеет пара Duration и Commision, остальные пары имеют еще более слабую степень корреляции."
   ]
  },
  {
   "cell_type": "code",
   "execution_count": 78,
   "id": "5e256012",
   "metadata": {
    "scrolled": true
   },
   "outputs": [
    {
     "data": {
      "image/png": "[encoded data removed]",
      "text/plain": [
       "<Figure size 432x288 with 2 Axes>"
      ]
     },
     "metadata": {
      "needs_background": "light"
     },
     "output_type": "display_data"
    }
   ],
   "source": [
    "sns.heatmap(corr_matr, square=True, cmap='coolwarm')\n",
    "pass"
   ]
  },
  {
   "cell_type": "markdown",
   "id": "b4a6d381",
   "metadata": {},
   "source": [
    "# 3. Обработка пропущенных значений"
   ]
  },
  {
   "cell_type": "code",
   "execution_count": 79,
   "id": "9f25128f",
   "metadata": {
    "scrolled": false
   },
   "outputs": [
    {
     "data": {
      "text/plain": [
       "Agency                      0\n",
       "Agency Type                 0\n",
       "Distribution Channel        0\n",
       "Product Name                0\n",
       "Claim                       0\n",
       "Duration                    0\n",
       "Destination                 0\n",
       "Net Sales                   0\n",
       "Commision                   0\n",
       "Gender                  44532\n",
       "Age                         0\n",
       "dtype: int64"
      ]
     },
     "execution_count": 79,
     "metadata": {},
     "output_type": "execute_result"
    }
   ],
   "source": [
    "data.isna().sum()"
   ]
  },
  {
   "cell_type": "markdown",
   "id": "2aabfa89",
   "metadata": {},
   "source": [
    "Пропущенные значения имеет только столбец Gender. Число значений достаточно велико, поэтому нельзя выбросить такие объекты. Если их выбросить, то в датасете значительная часть информации будет утеряна."
   ]
  },
  {
   "cell_type": "markdown",
   "id": "19337a97",
   "metadata": {},
   "source": [
    "Заполним недостающие значения при помощи моды признака Gender. Его мода:"
   ]
  },
  {
   "cell_type": "code",
   "execution_count": 80,
   "id": "0cd4f00e",
   "metadata": {
    "scrolled": false
   },
   "outputs": [
    {
     "data": {
      "text/plain": [
       "0    M\n",
       "Name: Gender, dtype: category\n",
       "Categories (2, object): ['F', 'M']"
      ]
     },
     "execution_count": 80,
     "metadata": {},
     "output_type": "execute_result"
    }
   ],
   "source": [
    "data['Gender'].mode()"
   ]
  },
  {
   "cell_type": "markdown",
   "id": "87daa5f4",
   "metadata": {},
   "source": [
    "Заполняем отсутствующие значений модой:"
   ]
  },
  {
   "cell_type": "code",
   "execution_count": 81,
   "id": "9339e5a5",
   "metadata": {},
   "outputs": [],
   "source": [
    "data['Gender'].fillna(data['Gender'].mode()[0], inplace = True)"
   ]
  },
  {
   "cell_type": "code",
   "execution_count": 82,
   "id": "4b7cfe00",
   "metadata": {
    "scrolled": true
   },
   "outputs": [
    {
     "data": {
      "text/plain": [
       "Agency                  0\n",
       "Agency Type             0\n",
       "Distribution Channel    0\n",
       "Product Name            0\n",
       "Claim                   0\n",
       "Duration                0\n",
       "Destination             0\n",
       "Net Sales               0\n",
       "Commision               0\n",
       "Gender                  0\n",
       "Age                     0\n",
       "dtype: int64"
      ]
     },
     "execution_count": 82,
     "metadata": {},
     "output_type": "execute_result"
    }
   ],
   "source": [
    "data.isna().sum()"
   ]
  },
  {
   "cell_type": "markdown",
   "id": "159c628b",
   "metadata": {},
   "source": [
    "Таким образом мы заполнили все пропуски."
   ]
  },
  {
   "cell_type": "markdown",
   "id": "82dc9b08",
   "metadata": {},
   "source": [
    "# 4. Обработка категориальных признаков"
   ]
  },
  {
   "cell_type": "markdown",
   "id": "78f39e72",
   "metadata": {},
   "source": [
    "Бинарные признаки Agency Type, Distribution Channel и Gender можно заполнить при помощи факторизации. Эти признаки будут представлены в виде значений 0 и 1."
   ]
  },
  {
   "cell_type": "code",
   "execution_count": 83,
   "id": "40eda5d8",
   "metadata": {},
   "outputs": [],
   "source": [
    "data['Agency Type'] = pd.factorize(data['Agency Type'])[0]\n",
    "data['Distribution Channel'] = pd.factorize(data['Distribution Channel'])[0]\n",
    "data['Gender'] = pd.factorize(data['Gender'])[0]"
   ]
  },
  {
   "cell_type": "markdown",
   "id": "db40e990",
   "metadata": {},
   "source": [
    "Подобным образом факторизуем целевой признак Claim:"
   ]
  },
  {
   "cell_type": "code",
   "execution_count": 84,
   "id": "3a1242ab",
   "metadata": {
    "scrolled": true
   },
   "outputs": [
    {
     "data": {
      "text/html": [
       "<div>\n",
       "<style scoped>\n",
       "    .dataframe tbody tr th:only-of-type {\n",
       "        vertical-align: middle;\n",
       "    }\n",
       "\n",
       "    .dataframe tbody tr th {\n",
       "        vertical-align: top;\n",
       "    }\n",
       "\n",
       "    .dataframe thead th {\n",
       "        text-align: right;\n",
       "    }\n",
       "</style>\n",
       "<table border=\"1\" class=\"dataframe\">\n",
       "  <thead>\n",
       "    <tr style=\"text-align: right;\">\n",
       "      <th></th>\n",
       "      <th>Agency</th>\n",
       "      <th>Agency Type</th>\n",
       "      <th>Distribution Channel</th>\n",
       "      <th>Product Name</th>\n",
       "      <th>Claim</th>\n",
       "      <th>Duration</th>\n",
       "      <th>Destination</th>\n",
       "      <th>Net Sales</th>\n",
       "      <th>Commision</th>\n",
       "      <th>Gender</th>\n",
       "      <th>Age</th>\n",
       "    </tr>\n",
       "  </thead>\n",
       "  <tbody>\n",
       "    <tr>\n",
       "      <th>1</th>\n",
       "      <td>CBH</td>\n",
       "      <td>0</td>\n",
       "      <td>0</td>\n",
       "      <td>Comprehensive Plan</td>\n",
       "      <td>0</td>\n",
       "      <td>186</td>\n",
       "      <td>MALAYSIA</td>\n",
       "      <td>-29.0</td>\n",
       "      <td>9.57</td>\n",
       "      <td>0</td>\n",
       "      <td>71</td>\n",
       "    </tr>\n",
       "    <tr>\n",
       "      <th>2</th>\n",
       "      <td>CWT</td>\n",
       "      <td>0</td>\n",
       "      <td>1</td>\n",
       "      <td>Rental Vehicle Excess Insurance</td>\n",
       "      <td>0</td>\n",
       "      <td>65</td>\n",
       "      <td>AUSTRALIA</td>\n",
       "      <td>-49.5</td>\n",
       "      <td>29.70</td>\n",
       "      <td>1</td>\n",
       "      <td>32</td>\n",
       "    </tr>\n",
       "    <tr>\n",
       "      <th>3</th>\n",
       "      <td>CWT</td>\n",
       "      <td>0</td>\n",
       "      <td>1</td>\n",
       "      <td>Rental Vehicle Excess Insurance</td>\n",
       "      <td>0</td>\n",
       "      <td>60</td>\n",
       "      <td>AUSTRALIA</td>\n",
       "      <td>-39.6</td>\n",
       "      <td>23.76</td>\n",
       "      <td>1</td>\n",
       "      <td>32</td>\n",
       "    </tr>\n",
       "    <tr>\n",
       "      <th>4</th>\n",
       "      <td>CWT</td>\n",
       "      <td>0</td>\n",
       "      <td>1</td>\n",
       "      <td>Rental Vehicle Excess Insurance</td>\n",
       "      <td>0</td>\n",
       "      <td>79</td>\n",
       "      <td>ITALY</td>\n",
       "      <td>-19.8</td>\n",
       "      <td>11.88</td>\n",
       "      <td>1</td>\n",
       "      <td>41</td>\n",
       "    </tr>\n",
       "    <tr>\n",
       "      <th>6</th>\n",
       "      <td>CWT</td>\n",
       "      <td>0</td>\n",
       "      <td>1</td>\n",
       "      <td>Rental Vehicle Excess Insurance</td>\n",
       "      <td>0</td>\n",
       "      <td>47</td>\n",
       "      <td>UNITED STATES</td>\n",
       "      <td>-39.6</td>\n",
       "      <td>23.76</td>\n",
       "      <td>1</td>\n",
       "      <td>32</td>\n",
       "    </tr>\n",
       "    <tr>\n",
       "      <th>...</th>\n",
       "      <td>...</td>\n",
       "      <td>...</td>\n",
       "      <td>...</td>\n",
       "      <td>...</td>\n",
       "      <td>...</td>\n",
       "      <td>...</td>\n",
       "      <td>...</td>\n",
       "      <td>...</td>\n",
       "      <td>...</td>\n",
       "      <td>...</td>\n",
       "      <td>...</td>\n",
       "    </tr>\n",
       "    <tr>\n",
       "      <th>63321</th>\n",
       "      <td>JZI</td>\n",
       "      <td>1</td>\n",
       "      <td>1</td>\n",
       "      <td>Basic Plan</td>\n",
       "      <td>0</td>\n",
       "      <td>111</td>\n",
       "      <td>JAPAN</td>\n",
       "      <td>35.0</td>\n",
       "      <td>12.25</td>\n",
       "      <td>1</td>\n",
       "      <td>31</td>\n",
       "    </tr>\n",
       "    <tr>\n",
       "      <th>63322</th>\n",
       "      <td>JZI</td>\n",
       "      <td>1</td>\n",
       "      <td>1</td>\n",
       "      <td>Basic Plan</td>\n",
       "      <td>0</td>\n",
       "      <td>58</td>\n",
       "      <td>CHINA</td>\n",
       "      <td>40.0</td>\n",
       "      <td>14.00</td>\n",
       "      <td>0</td>\n",
       "      <td>40</td>\n",
       "    </tr>\n",
       "    <tr>\n",
       "      <th>63323</th>\n",
       "      <td>JZI</td>\n",
       "      <td>1</td>\n",
       "      <td>1</td>\n",
       "      <td>Basic Plan</td>\n",
       "      <td>0</td>\n",
       "      <td>2</td>\n",
       "      <td>MALAYSIA</td>\n",
       "      <td>18.0</td>\n",
       "      <td>6.30</td>\n",
       "      <td>1</td>\n",
       "      <td>57</td>\n",
       "    </tr>\n",
       "    <tr>\n",
       "      <th>63324</th>\n",
       "      <td>JZI</td>\n",
       "      <td>1</td>\n",
       "      <td>1</td>\n",
       "      <td>Basic Plan</td>\n",
       "      <td>0</td>\n",
       "      <td>3</td>\n",
       "      <td>VIET NAM</td>\n",
       "      <td>18.0</td>\n",
       "      <td>6.30</td>\n",
       "      <td>1</td>\n",
       "      <td>63</td>\n",
       "    </tr>\n",
       "    <tr>\n",
       "      <th>63325</th>\n",
       "      <td>JZI</td>\n",
       "      <td>1</td>\n",
       "      <td>1</td>\n",
       "      <td>Basic Plan</td>\n",
       "      <td>0</td>\n",
       "      <td>22</td>\n",
       "      <td>HONG KONG</td>\n",
       "      <td>26.0</td>\n",
       "      <td>9.10</td>\n",
       "      <td>0</td>\n",
       "      <td>35</td>\n",
       "    </tr>\n",
       "  </tbody>\n",
       "</table>\n",
       "<p>60782 rows × 11 columns</p>\n",
       "</div>"
      ],
      "text/plain": [
       "      Agency  Agency Type  Distribution Channel  \\\n",
       "1        CBH            0                     0   \n",
       "2        CWT            0                     1   \n",
       "3        CWT            0                     1   \n",
       "4        CWT            0                     1   \n",
       "6        CWT            0                     1   \n",
       "...      ...          ...                   ...   \n",
       "63321    JZI            1                     1   \n",
       "63322    JZI            1                     1   \n",
       "63323    JZI            1                     1   \n",
       "63324    JZI            1                     1   \n",
       "63325    JZI            1                     1   \n",
       "\n",
       "                          Product Name  Claim  Duration    Destination  \\\n",
       "1                   Comprehensive Plan      0       186       MALAYSIA   \n",
       "2      Rental Vehicle Excess Insurance      0        65      AUSTRALIA   \n",
       "3      Rental Vehicle Excess Insurance      0        60      AUSTRALIA   \n",
       "4      Rental Vehicle Excess Insurance      0        79          ITALY   \n",
       "6      Rental Vehicle Excess Insurance      0        47  UNITED STATES   \n",
       "...                                ...    ...       ...            ...   \n",
       "63321                       Basic Plan      0       111          JAPAN   \n",
       "63322                       Basic Plan      0        58          CHINA   \n",
       "63323                       Basic Plan      0         2       MALAYSIA   \n",
       "63324                       Basic Plan      0         3       VIET NAM   \n",
       "63325                       Basic Plan      0        22      HONG KONG   \n",
       "\n",
       "       Net Sales  Commision  Gender  Age  \n",
       "1          -29.0       9.57       0   71  \n",
       "2          -49.5      29.70       1   32  \n",
       "3          -39.6      23.76       1   32  \n",
       "4          -19.8      11.88       1   41  \n",
       "6          -39.6      23.76       1   32  \n",
       "...          ...        ...     ...  ...  \n",
       "63321       35.0      12.25       1   31  \n",
       "63322       40.0      14.00       0   40  \n",
       "63323       18.0       6.30       1   57  \n",
       "63324       18.0       6.30       1   63  \n",
       "63325       26.0       9.10       0   35  \n",
       "\n",
       "[60782 rows x 11 columns]"
      ]
     },
     "execution_count": 84,
     "metadata": {},
     "output_type": "execute_result"
    }
   ],
   "source": [
    "data['Claim'] = pd.factorize(data['Claim'])[0]\n",
    "data"
   ]
  },
  {
   "cell_type": "markdown",
   "id": "46e0a985",
   "metadata": {},
   "source": [
    "Для остальных категориальных признаков воспользуемся методом векторизации. К примеру, для признака Agency генерируются следующие фиктивные столбцы:"
   ]
  },
  {
   "cell_type": "code",
   "execution_count": 85,
   "id": "bc5ec039",
   "metadata": {
    "scrolled": true
   },
   "outputs": [
    {
     "data": {
      "text/html": [
       "<div>\n",
       "<style scoped>\n",
       "    .dataframe tbody tr th:only-of-type {\n",
       "        vertical-align: middle;\n",
       "    }\n",
       "\n",
       "    .dataframe tbody tr th {\n",
       "        vertical-align: top;\n",
       "    }\n",
       "\n",
       "    .dataframe thead th {\n",
       "        text-align: right;\n",
       "    }\n",
       "</style>\n",
       "<table border=\"1\" class=\"dataframe\">\n",
       "  <thead>\n",
       "    <tr style=\"text-align: right;\">\n",
       "      <th></th>\n",
       "      <th>ADM</th>\n",
       "      <th>ART</th>\n",
       "      <th>C2B</th>\n",
       "      <th>CBH</th>\n",
       "      <th>CCR</th>\n",
       "      <th>CSR</th>\n",
       "      <th>CWT</th>\n",
       "      <th>EPX</th>\n",
       "      <th>JZI</th>\n",
       "      <th>KML</th>\n",
       "      <th>LWC</th>\n",
       "      <th>RAB</th>\n",
       "      <th>SSI</th>\n",
       "      <th>TST</th>\n",
       "      <th>TTW</th>\n",
       "    </tr>\n",
       "  </thead>\n",
       "  <tbody>\n",
       "    <tr>\n",
       "      <th>1</th>\n",
       "      <td>0</td>\n",
       "      <td>0</td>\n",
       "      <td>0</td>\n",
       "      <td>1</td>\n",
       "      <td>0</td>\n",
       "      <td>0</td>\n",
       "      <td>0</td>\n",
       "      <td>0</td>\n",
       "      <td>0</td>\n",
       "      <td>0</td>\n",
       "      <td>0</td>\n",
       "      <td>0</td>\n",
       "      <td>0</td>\n",
       "      <td>0</td>\n",
       "      <td>0</td>\n",
       "    </tr>\n",
       "    <tr>\n",
       "      <th>2</th>\n",
       "      <td>0</td>\n",
       "      <td>0</td>\n",
       "      <td>0</td>\n",
       "      <td>0</td>\n",
       "      <td>0</td>\n",
       "      <td>0</td>\n",
       "      <td>1</td>\n",
       "      <td>0</td>\n",
       "      <td>0</td>\n",
       "      <td>0</td>\n",
       "      <td>0</td>\n",
       "      <td>0</td>\n",
       "      <td>0</td>\n",
       "      <td>0</td>\n",
       "      <td>0</td>\n",
       "    </tr>\n",
       "    <tr>\n",
       "      <th>3</th>\n",
       "      <td>0</td>\n",
       "      <td>0</td>\n",
       "      <td>0</td>\n",
       "      <td>0</td>\n",
       "      <td>0</td>\n",
       "      <td>0</td>\n",
       "      <td>1</td>\n",
       "      <td>0</td>\n",
       "      <td>0</td>\n",
       "      <td>0</td>\n",
       "      <td>0</td>\n",
       "      <td>0</td>\n",
       "      <td>0</td>\n",
       "      <td>0</td>\n",
       "      <td>0</td>\n",
       "    </tr>\n",
       "    <tr>\n",
       "      <th>4</th>\n",
       "      <td>0</td>\n",
       "      <td>0</td>\n",
       "      <td>0</td>\n",
       "      <td>0</td>\n",
       "      <td>0</td>\n",
       "      <td>0</td>\n",
       "      <td>1</td>\n",
       "      <td>0</td>\n",
       "      <td>0</td>\n",
       "      <td>0</td>\n",
       "      <td>0</td>\n",
       "      <td>0</td>\n",
       "      <td>0</td>\n",
       "      <td>0</td>\n",
       "      <td>0</td>\n",
       "    </tr>\n",
       "    <tr>\n",
       "      <th>6</th>\n",
       "      <td>0</td>\n",
       "      <td>0</td>\n",
       "      <td>0</td>\n",
       "      <td>0</td>\n",
       "      <td>0</td>\n",
       "      <td>0</td>\n",
       "      <td>1</td>\n",
       "      <td>0</td>\n",
       "      <td>0</td>\n",
       "      <td>0</td>\n",
       "      <td>0</td>\n",
       "      <td>0</td>\n",
       "      <td>0</td>\n",
       "      <td>0</td>\n",
       "      <td>0</td>\n",
       "    </tr>\n",
       "    <tr>\n",
       "      <th>...</th>\n",
       "      <td>...</td>\n",
       "      <td>...</td>\n",
       "      <td>...</td>\n",
       "      <td>...</td>\n",
       "      <td>...</td>\n",
       "      <td>...</td>\n",
       "      <td>...</td>\n",
       "      <td>...</td>\n",
       "      <td>...</td>\n",
       "      <td>...</td>\n",
       "      <td>...</td>\n",
       "      <td>...</td>\n",
       "      <td>...</td>\n",
       "      <td>...</td>\n",
       "      <td>...</td>\n",
       "    </tr>\n",
       "    <tr>\n",
       "      <th>63321</th>\n",
       "      <td>0</td>\n",
       "      <td>0</td>\n",
       "      <td>0</td>\n",
       "      <td>0</td>\n",
       "      <td>0</td>\n",
       "      <td>0</td>\n",
       "      <td>0</td>\n",
       "      <td>0</td>\n",
       "      <td>1</td>\n",
       "      <td>0</td>\n",
       "      <td>0</td>\n",
       "      <td>0</td>\n",
       "      <td>0</td>\n",
       "      <td>0</td>\n",
       "      <td>0</td>\n",
       "    </tr>\n",
       "    <tr>\n",
       "      <th>63322</th>\n",
       "      <td>0</td>\n",
       "      <td>0</td>\n",
       "      <td>0</td>\n",
       "      <td>0</td>\n",
       "      <td>0</td>\n",
       "      <td>0</td>\n",
       "      <td>0</td>\n",
       "      <td>0</td>\n",
       "      <td>1</td>\n",
       "      <td>0</td>\n",
       "      <td>0</td>\n",
       "      <td>0</td>\n",
       "      <td>0</td>\n",
       "      <td>0</td>\n",
       "      <td>0</td>\n",
       "    </tr>\n",
       "    <tr>\n",
       "      <th>63323</th>\n",
       "      <td>0</td>\n",
       "      <td>0</td>\n",
       "      <td>0</td>\n",
       "      <td>0</td>\n",
       "      <td>0</td>\n",
       "      <td>0</td>\n",
       "      <td>0</td>\n",
       "      <td>0</td>\n",
       "      <td>1</td>\n",
       "      <td>0</td>\n",
       "      <td>0</td>\n",
       "      <td>0</td>\n",
       "      <td>0</td>\n",
       "      <td>0</td>\n",
       "      <td>0</td>\n",
       "    </tr>\n",
       "    <tr>\n",
       "      <th>63324</th>\n",
       "      <td>0</td>\n",
       "      <td>0</td>\n",
       "      <td>0</td>\n",
       "      <td>0</td>\n",
       "      <td>0</td>\n",
       "      <td>0</td>\n",
       "      <td>0</td>\n",
       "      <td>0</td>\n",
       "      <td>1</td>\n",
       "      <td>0</td>\n",
       "      <td>0</td>\n",
       "      <td>0</td>\n",
       "      <td>0</td>\n",
       "      <td>0</td>\n",
       "      <td>0</td>\n",
       "    </tr>\n",
       "    <tr>\n",
       "      <th>63325</th>\n",
       "      <td>0</td>\n",
       "      <td>0</td>\n",
       "      <td>0</td>\n",
       "      <td>0</td>\n",
       "      <td>0</td>\n",
       "      <td>0</td>\n",
       "      <td>0</td>\n",
       "      <td>0</td>\n",
       "      <td>1</td>\n",
       "      <td>0</td>\n",
       "      <td>0</td>\n",
       "      <td>0</td>\n",
       "      <td>0</td>\n",
       "      <td>0</td>\n",
       "      <td>0</td>\n",
       "    </tr>\n",
       "  </tbody>\n",
       "</table>\n",
       "<p>60782 rows × 15 columns</p>\n",
       "</div>"
      ],
      "text/plain": [
       "       ADM  ART  C2B  CBH  CCR  CSR  CWT  EPX  JZI  KML  LWC  RAB  SSI  TST  \\\n",
       "1        0    0    0    1    0    0    0    0    0    0    0    0    0    0   \n",
       "2        0    0    0    0    0    0    1    0    0    0    0    0    0    0   \n",
       "3        0    0    0    0    0    0    1    0    0    0    0    0    0    0   \n",
       "4        0    0    0    0    0    0    1    0    0    0    0    0    0    0   \n",
       "6        0    0    0    0    0    0    1    0    0    0    0    0    0    0   \n",
       "...    ...  ...  ...  ...  ...  ...  ...  ...  ...  ...  ...  ...  ...  ...   \n",
       "63321    0    0    0    0    0    0    0    0    1    0    0    0    0    0   \n",
       "63322    0    0    0    0    0    0    0    0    1    0    0    0    0    0   \n",
       "63323    0    0    0    0    0    0    0    0    1    0    0    0    0    0   \n",
       "63324    0    0    0    0    0    0    0    0    1    0    0    0    0    0   \n",
       "63325    0    0    0    0    0    0    0    0    1    0    0    0    0    0   \n",
       "\n",
       "       TTW  \n",
       "1        0  \n",
       "2        0  \n",
       "3        0  \n",
       "4        0  \n",
       "6        0  \n",
       "...    ...  \n",
       "63321    0  \n",
       "63322    0  \n",
       "63323    0  \n",
       "63324    0  \n",
       "63325    0  \n",
       "\n",
       "[60782 rows x 15 columns]"
      ]
     },
     "execution_count": 85,
     "metadata": {},
     "output_type": "execute_result"
    }
   ],
   "source": [
    "Agency_dummies = pd.get_dummies(data['Agency'])\n",
    "Agency_dummies"
   ]
  },
  {
   "cell_type": "markdown",
   "id": "ed54f58c",
   "metadata": {},
   "source": [
    "Присоединяем эти столбцы к таблице и удаляем оригинальный столбец Agency:"
   ]
  },
  {
   "cell_type": "code",
   "execution_count": 86,
   "id": "94b5828a",
   "metadata": {
    "scrolled": false
   },
   "outputs": [
    {
     "data": {
      "text/html": [
       "<div>\n",
       "<style scoped>\n",
       "    .dataframe tbody tr th:only-of-type {\n",
       "        vertical-align: middle;\n",
       "    }\n",
       "\n",
       "    .dataframe tbody tr th {\n",
       "        vertical-align: top;\n",
       "    }\n",
       "\n",
       "    .dataframe thead th {\n",
       "        text-align: right;\n",
       "    }\n",
       "</style>\n",
       "<table border=\"1\" class=\"dataframe\">\n",
       "  <thead>\n",
       "    <tr style=\"text-align: right;\">\n",
       "      <th></th>\n",
       "      <th>Agency Type</th>\n",
       "      <th>Distribution Channel</th>\n",
       "      <th>Product Name</th>\n",
       "      <th>Claim</th>\n",
       "      <th>Duration</th>\n",
       "      <th>Destination</th>\n",
       "      <th>Net Sales</th>\n",
       "      <th>Commision</th>\n",
       "      <th>Gender</th>\n",
       "      <th>Age</th>\n",
       "      <th>...</th>\n",
       "      <th>CSR</th>\n",
       "      <th>CWT</th>\n",
       "      <th>EPX</th>\n",
       "      <th>JZI</th>\n",
       "      <th>KML</th>\n",
       "      <th>LWC</th>\n",
       "      <th>RAB</th>\n",
       "      <th>SSI</th>\n",
       "      <th>TST</th>\n",
       "      <th>TTW</th>\n",
       "    </tr>\n",
       "  </thead>\n",
       "  <tbody>\n",
       "    <tr>\n",
       "      <th>1</th>\n",
       "      <td>0</td>\n",
       "      <td>0</td>\n",
       "      <td>Comprehensive Plan</td>\n",
       "      <td>0</td>\n",
       "      <td>186</td>\n",
       "      <td>MALAYSIA</td>\n",
       "      <td>-29.0</td>\n",
       "      <td>9.57</td>\n",
       "      <td>0</td>\n",
       "      <td>71</td>\n",
       "      <td>...</td>\n",
       "      <td>0</td>\n",
       "      <td>0</td>\n",
       "      <td>0</td>\n",
       "      <td>0</td>\n",
       "      <td>0</td>\n",
       "      <td>0</td>\n",
       "      <td>0</td>\n",
       "      <td>0</td>\n",
       "      <td>0</td>\n",
       "      <td>0</td>\n",
       "    </tr>\n",
       "    <tr>\n",
       "      <th>2</th>\n",
       "      <td>0</td>\n",
       "      <td>1</td>\n",
       "      <td>Rental Vehicle Excess Insurance</td>\n",
       "      <td>0</td>\n",
       "      <td>65</td>\n",
       "      <td>AUSTRALIA</td>\n",
       "      <td>-49.5</td>\n",
       "      <td>29.70</td>\n",
       "      <td>1</td>\n",
       "      <td>32</td>\n",
       "      <td>...</td>\n",
       "      <td>0</td>\n",
       "      <td>1</td>\n",
       "      <td>0</td>\n",
       "      <td>0</td>\n",
       "      <td>0</td>\n",
       "      <td>0</td>\n",
       "      <td>0</td>\n",
       "      <td>0</td>\n",
       "      <td>0</td>\n",
       "      <td>0</td>\n",
       "    </tr>\n",
       "    <tr>\n",
       "      <th>3</th>\n",
       "      <td>0</td>\n",
       "      <td>1</td>\n",
       "      <td>Rental Vehicle Excess Insurance</td>\n",
       "      <td>0</td>\n",
       "      <td>60</td>\n",
       "      <td>AUSTRALIA</td>\n",
       "      <td>-39.6</td>\n",
       "      <td>23.76</td>\n",
       "      <td>1</td>\n",
       "      <td>32</td>\n",
       "      <td>...</td>\n",
       "      <td>0</td>\n",
       "      <td>1</td>\n",
       "      <td>0</td>\n",
       "      <td>0</td>\n",
       "      <td>0</td>\n",
       "      <td>0</td>\n",
       "      <td>0</td>\n",
       "      <td>0</td>\n",
       "      <td>0</td>\n",
       "      <td>0</td>\n",
       "    </tr>\n",
       "    <tr>\n",
       "      <th>4</th>\n",
       "      <td>0</td>\n",
       "      <td>1</td>\n",
       "      <td>Rental Vehicle Excess Insurance</td>\n",
       "      <td>0</td>\n",
       "      <td>79</td>\n",
       "      <td>ITALY</td>\n",
       "      <td>-19.8</td>\n",
       "      <td>11.88</td>\n",
       "      <td>1</td>\n",
       "      <td>41</td>\n",
       "      <td>...</td>\n",
       "      <td>0</td>\n",
       "      <td>1</td>\n",
       "      <td>0</td>\n",
       "      <td>0</td>\n",
       "      <td>0</td>\n",
       "      <td>0</td>\n",
       "      <td>0</td>\n",
       "      <td>0</td>\n",
       "      <td>0</td>\n",
       "      <td>0</td>\n",
       "    </tr>\n",
       "    <tr>\n",
       "      <th>6</th>\n",
       "      <td>0</td>\n",
       "      <td>1</td>\n",
       "      <td>Rental Vehicle Excess Insurance</td>\n",
       "      <td>0</td>\n",
       "      <td>47</td>\n",
       "      <td>UNITED STATES</td>\n",
       "      <td>-39.6</td>\n",
       "      <td>23.76</td>\n",
       "      <td>1</td>\n",
       "      <td>32</td>\n",
       "      <td>...</td>\n",
       "      <td>0</td>\n",
       "      <td>1</td>\n",
       "      <td>0</td>\n",
       "      <td>0</td>\n",
       "      <td>0</td>\n",
       "      <td>0</td>\n",
       "      <td>0</td>\n",
       "      <td>0</td>\n",
       "      <td>0</td>\n",
       "      <td>0</td>\n",
       "    </tr>\n",
       "    <tr>\n",
       "      <th>...</th>\n",
       "      <td>...</td>\n",
       "      <td>...</td>\n",
       "      <td>...</td>\n",
       "      <td>...</td>\n",
       "      <td>...</td>\n",
       "      <td>...</td>\n",
       "      <td>...</td>\n",
       "      <td>...</td>\n",
       "      <td>...</td>\n",
       "      <td>...</td>\n",
       "      <td>...</td>\n",
       "      <td>...</td>\n",
       "      <td>...</td>\n",
       "      <td>...</td>\n",
       "      <td>...</td>\n",
       "      <td>...</td>\n",
       "      <td>...</td>\n",
       "      <td>...</td>\n",
       "      <td>...</td>\n",
       "      <td>...</td>\n",
       "      <td>...</td>\n",
       "    </tr>\n",
       "    <tr>\n",
       "      <th>63321</th>\n",
       "      <td>1</td>\n",
       "      <td>1</td>\n",
       "      <td>Basic Plan</td>\n",
       "      <td>0</td>\n",
       "      <td>111</td>\n",
       "      <td>JAPAN</td>\n",
       "      <td>35.0</td>\n",
       "      <td>12.25</td>\n",
       "      <td>1</td>\n",
       "      <td>31</td>\n",
       "      <td>...</td>\n",
       "      <td>0</td>\n",
       "      <td>0</td>\n",
       "      <td>0</td>\n",
       "      <td>1</td>\n",
       "      <td>0</td>\n",
       "      <td>0</td>\n",
       "      <td>0</td>\n",
       "      <td>0</td>\n",
       "      <td>0</td>\n",
       "      <td>0</td>\n",
       "    </tr>\n",
       "    <tr>\n",
       "      <th>63322</th>\n",
       "      <td>1</td>\n",
       "      <td>1</td>\n",
       "      <td>Basic Plan</td>\n",
       "      <td>0</td>\n",
       "      <td>58</td>\n",
       "      <td>CHINA</td>\n",
       "      <td>40.0</td>\n",
       "      <td>14.00</td>\n",
       "      <td>0</td>\n",
       "      <td>40</td>\n",
       "      <td>...</td>\n",
       "      <td>0</td>\n",
       "      <td>0</td>\n",
       "      <td>0</td>\n",
       "      <td>1</td>\n",
       "      <td>0</td>\n",
       "      <td>0</td>\n",
       "      <td>0</td>\n",
       "      <td>0</td>\n",
       "      <td>0</td>\n",
       "      <td>0</td>\n",
       "    </tr>\n",
       "    <tr>\n",
       "      <th>63323</th>\n",
       "      <td>1</td>\n",
       "      <td>1</td>\n",
       "      <td>Basic Plan</td>\n",
       "      <td>0</td>\n",
       "      <td>2</td>\n",
       "      <td>MALAYSIA</td>\n",
       "      <td>18.0</td>\n",
       "      <td>6.30</td>\n",
       "      <td>1</td>\n",
       "      <td>57</td>\n",
       "      <td>...</td>\n",
       "      <td>0</td>\n",
       "      <td>0</td>\n",
       "      <td>0</td>\n",
       "      <td>1</td>\n",
       "      <td>0</td>\n",
       "      <td>0</td>\n",
       "      <td>0</td>\n",
       "      <td>0</td>\n",
       "      <td>0</td>\n",
       "      <td>0</td>\n",
       "    </tr>\n",
       "    <tr>\n",
       "      <th>63324</th>\n",
       "      <td>1</td>\n",
       "      <td>1</td>\n",
       "      <td>Basic Plan</td>\n",
       "      <td>0</td>\n",
       "      <td>3</td>\n",
       "      <td>VIET NAM</td>\n",
       "      <td>18.0</td>\n",
       "      <td>6.30</td>\n",
       "      <td>1</td>\n",
       "      <td>63</td>\n",
       "      <td>...</td>\n",
       "      <td>0</td>\n",
       "      <td>0</td>\n",
       "      <td>0</td>\n",
       "      <td>1</td>\n",
       "      <td>0</td>\n",
       "      <td>0</td>\n",
       "      <td>0</td>\n",
       "      <td>0</td>\n",
       "      <td>0</td>\n",
       "      <td>0</td>\n",
       "    </tr>\n",
       "    <tr>\n",
       "      <th>63325</th>\n",
       "      <td>1</td>\n",
       "      <td>1</td>\n",
       "      <td>Basic Plan</td>\n",
       "      <td>0</td>\n",
       "      <td>22</td>\n",
       "      <td>HONG KONG</td>\n",
       "      <td>26.0</td>\n",
       "      <td>9.10</td>\n",
       "      <td>0</td>\n",
       "      <td>35</td>\n",
       "      <td>...</td>\n",
       "      <td>0</td>\n",
       "      <td>0</td>\n",
       "      <td>0</td>\n",
       "      <td>1</td>\n",
       "      <td>0</td>\n",
       "      <td>0</td>\n",
       "      <td>0</td>\n",
       "      <td>0</td>\n",
       "      <td>0</td>\n",
       "      <td>0</td>\n",
       "    </tr>\n",
       "  </tbody>\n",
       "</table>\n",
       "<p>60782 rows × 25 columns</p>\n",
       "</div>"
      ],
      "text/plain": [
       "       Agency Type  Distribution Channel                     Product Name  \\\n",
       "1                0                     0               Comprehensive Plan   \n",
       "2                0                     1  Rental Vehicle Excess Insurance   \n",
       "3                0                     1  Rental Vehicle Excess Insurance   \n",
       "4                0                     1  Rental Vehicle Excess Insurance   \n",
       "6                0                     1  Rental Vehicle Excess Insurance   \n",
       "...            ...                   ...                              ...   \n",
       "63321            1                     1                       Basic Plan   \n",
       "63322            1                     1                       Basic Plan   \n",
       "63323            1                     1                       Basic Plan   \n",
       "63324            1                     1                       Basic Plan   \n",
       "63325            1                     1                       Basic Plan   \n",
       "\n",
       "       Claim  Duration    Destination  Net Sales  Commision  Gender  Age  ...  \\\n",
       "1          0       186       MALAYSIA      -29.0       9.57       0   71  ...   \n",
       "2          0        65      AUSTRALIA      -49.5      29.70       1   32  ...   \n",
       "3          0        60      AUSTRALIA      -39.6      23.76       1   32  ...   \n",
       "4          0        79          ITALY      -19.8      11.88       1   41  ...   \n",
       "6          0        47  UNITED STATES      -39.6      23.76       1   32  ...   \n",
       "...      ...       ...            ...        ...        ...     ...  ...  ...   \n",
       "63321      0       111          JAPAN       35.0      12.25       1   31  ...   \n",
       "63322      0        58          CHINA       40.0      14.00       0   40  ...   \n",
       "63323      0         2       MALAYSIA       18.0       6.30       1   57  ...   \n",
       "63324      0         3       VIET NAM       18.0       6.30       1   63  ...   \n",
       "63325      0        22      HONG KONG       26.0       9.10       0   35  ...   \n",
       "\n",
       "       CSR  CWT  EPX  JZI  KML  LWC  RAB  SSI  TST  TTW  \n",
       "1        0    0    0    0    0    0    0    0    0    0  \n",
       "2        0    1    0    0    0    0    0    0    0    0  \n",
       "3        0    1    0    0    0    0    0    0    0    0  \n",
       "4        0    1    0    0    0    0    0    0    0    0  \n",
       "6        0    1    0    0    0    0    0    0    0    0  \n",
       "...    ...  ...  ...  ...  ...  ...  ...  ...  ...  ...  \n",
       "63321    0    0    0    1    0    0    0    0    0    0  \n",
       "63322    0    0    0    1    0    0    0    0    0    0  \n",
       "63323    0    0    0    1    0    0    0    0    0    0  \n",
       "63324    0    0    0    1    0    0    0    0    0    0  \n",
       "63325    0    0    0    1    0    0    0    0    0    0  \n",
       "\n",
       "[60782 rows x 25 columns]"
      ]
     },
     "execution_count": 86,
     "metadata": {},
     "output_type": "execute_result"
    }
   ],
   "source": [
    "data = pd.concat((data, Agency_dummies), axis = 1)\n",
    "data = data.drop(['Agency'], axis = 1)\n",
    "data"
   ]
  },
  {
   "cell_type": "markdown",
   "id": "6602fa65",
   "metadata": {},
   "source": [
    "Проделываем эти операции для остальных признаков:"
   ]
  },
  {
   "cell_type": "code",
   "execution_count": 87,
   "id": "104eca41",
   "metadata": {
    "scrolled": true
   },
   "outputs": [
    {
     "data": {
      "text/html": [
       "<div>\n",
       "<style scoped>\n",
       "    .dataframe tbody tr th:only-of-type {\n",
       "        vertical-align: middle;\n",
       "    }\n",
       "\n",
       "    .dataframe tbody tr th {\n",
       "        vertical-align: top;\n",
       "    }\n",
       "\n",
       "    .dataframe thead th {\n",
       "        text-align: right;\n",
       "    }\n",
       "</style>\n",
       "<table border=\"1\" class=\"dataframe\">\n",
       "  <thead>\n",
       "    <tr style=\"text-align: right;\">\n",
       "      <th></th>\n",
       "      <th>Agency Type</th>\n",
       "      <th>Distribution Channel</th>\n",
       "      <th>Claim</th>\n",
       "      <th>Duration</th>\n",
       "      <th>Net Sales</th>\n",
       "      <th>Commision</th>\n",
       "      <th>Gender</th>\n",
       "      <th>Age</th>\n",
       "      <th>ADM</th>\n",
       "      <th>ART</th>\n",
       "      <th>...</th>\n",
       "      <th>UNITED KINGDOM</th>\n",
       "      <th>UNITED STATES</th>\n",
       "      <th>URUGUAY</th>\n",
       "      <th>UZBEKISTAN</th>\n",
       "      <th>VANUATU</th>\n",
       "      <th>VENEZUELA</th>\n",
       "      <th>VIET NAM</th>\n",
       "      <th>VIRGIN ISLANDS, U.S.</th>\n",
       "      <th>ZAMBIA</th>\n",
       "      <th>ZIMBABWE</th>\n",
       "    </tr>\n",
       "  </thead>\n",
       "  <tbody>\n",
       "    <tr>\n",
       "      <th>1</th>\n",
       "      <td>0</td>\n",
       "      <td>0</td>\n",
       "      <td>0</td>\n",
       "      <td>186</td>\n",
       "      <td>-29.0</td>\n",
       "      <td>9.57</td>\n",
       "      <td>0</td>\n",
       "      <td>71</td>\n",
       "      <td>0</td>\n",
       "      <td>0</td>\n",
       "      <td>...</td>\n",
       "      <td>0</td>\n",
       "      <td>0</td>\n",
       "      <td>0</td>\n",
       "      <td>0</td>\n",
       "      <td>0</td>\n",
       "      <td>0</td>\n",
       "      <td>0</td>\n",
       "      <td>0</td>\n",
       "      <td>0</td>\n",
       "      <td>0</td>\n",
       "    </tr>\n",
       "    <tr>\n",
       "      <th>2</th>\n",
       "      <td>0</td>\n",
       "      <td>1</td>\n",
       "      <td>0</td>\n",
       "      <td>65</td>\n",
       "      <td>-49.5</td>\n",
       "      <td>29.70</td>\n",
       "      <td>1</td>\n",
       "      <td>32</td>\n",
       "      <td>0</td>\n",
       "      <td>0</td>\n",
       "      <td>...</td>\n",
       "      <td>0</td>\n",
       "      <td>0</td>\n",
       "      <td>0</td>\n",
       "      <td>0</td>\n",
       "      <td>0</td>\n",
       "      <td>0</td>\n",
       "      <td>0</td>\n",
       "      <td>0</td>\n",
       "      <td>0</td>\n",
       "      <td>0</td>\n",
       "    </tr>\n",
       "    <tr>\n",
       "      <th>3</th>\n",
       "      <td>0</td>\n",
       "      <td>1</td>\n",
       "      <td>0</td>\n",
       "      <td>60</td>\n",
       "      <td>-39.6</td>\n",
       "      <td>23.76</td>\n",
       "      <td>1</td>\n",
       "      <td>32</td>\n",
       "      <td>0</td>\n",
       "      <td>0</td>\n",
       "      <td>...</td>\n",
       "      <td>0</td>\n",
       "      <td>0</td>\n",
       "      <td>0</td>\n",
       "      <td>0</td>\n",
       "      <td>0</td>\n",
       "      <td>0</td>\n",
       "      <td>0</td>\n",
       "      <td>0</td>\n",
       "      <td>0</td>\n",
       "      <td>0</td>\n",
       "    </tr>\n",
       "    <tr>\n",
       "      <th>4</th>\n",
       "      <td>0</td>\n",
       "      <td>1</td>\n",
       "      <td>0</td>\n",
       "      <td>79</td>\n",
       "      <td>-19.8</td>\n",
       "      <td>11.88</td>\n",
       "      <td>1</td>\n",
       "      <td>41</td>\n",
       "      <td>0</td>\n",
       "      <td>0</td>\n",
       "      <td>...</td>\n",
       "      <td>0</td>\n",
       "      <td>0</td>\n",
       "      <td>0</td>\n",
       "      <td>0</td>\n",
       "      <td>0</td>\n",
       "      <td>0</td>\n",
       "      <td>0</td>\n",
       "      <td>0</td>\n",
       "      <td>0</td>\n",
       "      <td>0</td>\n",
       "    </tr>\n",
       "    <tr>\n",
       "      <th>6</th>\n",
       "      <td>0</td>\n",
       "      <td>1</td>\n",
       "      <td>0</td>\n",
       "      <td>47</td>\n",
       "      <td>-39.6</td>\n",
       "      <td>23.76</td>\n",
       "      <td>1</td>\n",
       "      <td>32</td>\n",
       "      <td>0</td>\n",
       "      <td>0</td>\n",
       "      <td>...</td>\n",
       "      <td>0</td>\n",
       "      <td>1</td>\n",
       "      <td>0</td>\n",
       "      <td>0</td>\n",
       "      <td>0</td>\n",
       "      <td>0</td>\n",
       "      <td>0</td>\n",
       "      <td>0</td>\n",
       "      <td>0</td>\n",
       "      <td>0</td>\n",
       "    </tr>\n",
       "    <tr>\n",
       "      <th>...</th>\n",
       "      <td>...</td>\n",
       "      <td>...</td>\n",
       "      <td>...</td>\n",
       "      <td>...</td>\n",
       "      <td>...</td>\n",
       "      <td>...</td>\n",
       "      <td>...</td>\n",
       "      <td>...</td>\n",
       "      <td>...</td>\n",
       "      <td>...</td>\n",
       "      <td>...</td>\n",
       "      <td>...</td>\n",
       "      <td>...</td>\n",
       "      <td>...</td>\n",
       "      <td>...</td>\n",
       "      <td>...</td>\n",
       "      <td>...</td>\n",
       "      <td>...</td>\n",
       "      <td>...</td>\n",
       "      <td>...</td>\n",
       "      <td>...</td>\n",
       "    </tr>\n",
       "    <tr>\n",
       "      <th>63321</th>\n",
       "      <td>1</td>\n",
       "      <td>1</td>\n",
       "      <td>0</td>\n",
       "      <td>111</td>\n",
       "      <td>35.0</td>\n",
       "      <td>12.25</td>\n",
       "      <td>1</td>\n",
       "      <td>31</td>\n",
       "      <td>0</td>\n",
       "      <td>0</td>\n",
       "      <td>...</td>\n",
       "      <td>0</td>\n",
       "      <td>0</td>\n",
       "      <td>0</td>\n",
       "      <td>0</td>\n",
       "      <td>0</td>\n",
       "      <td>0</td>\n",
       "      <td>0</td>\n",
       "      <td>0</td>\n",
       "      <td>0</td>\n",
       "      <td>0</td>\n",
       "    </tr>\n",
       "    <tr>\n",
       "      <th>63322</th>\n",
       "      <td>1</td>\n",
       "      <td>1</td>\n",
       "      <td>0</td>\n",
       "      <td>58</td>\n",
       "      <td>40.0</td>\n",
       "      <td>14.00</td>\n",
       "      <td>0</td>\n",
       "      <td>40</td>\n",
       "      <td>0</td>\n",
       "      <td>0</td>\n",
       "      <td>...</td>\n",
       "      <td>0</td>\n",
       "      <td>0</td>\n",
       "      <td>0</td>\n",
       "      <td>0</td>\n",
       "      <td>0</td>\n",
       "      <td>0</td>\n",
       "      <td>0</td>\n",
       "      <td>0</td>\n",
       "      <td>0</td>\n",
       "      <td>0</td>\n",
       "    </tr>\n",
       "    <tr>\n",
       "      <th>63323</th>\n",
       "      <td>1</td>\n",
       "      <td>1</td>\n",
       "      <td>0</td>\n",
       "      <td>2</td>\n",
       "      <td>18.0</td>\n",
       "      <td>6.30</td>\n",
       "      <td>1</td>\n",
       "      <td>57</td>\n",
       "      <td>0</td>\n",
       "      <td>0</td>\n",
       "      <td>...</td>\n",
       "      <td>0</td>\n",
       "      <td>0</td>\n",
       "      <td>0</td>\n",
       "      <td>0</td>\n",
       "      <td>0</td>\n",
       "      <td>0</td>\n",
       "      <td>0</td>\n",
       "      <td>0</td>\n",
       "      <td>0</td>\n",
       "      <td>0</td>\n",
       "    </tr>\n",
       "    <tr>\n",
       "      <th>63324</th>\n",
       "      <td>1</td>\n",
       "      <td>1</td>\n",
       "      <td>0</td>\n",
       "      <td>3</td>\n",
       "      <td>18.0</td>\n",
       "      <td>6.30</td>\n",
       "      <td>1</td>\n",
       "      <td>63</td>\n",
       "      <td>0</td>\n",
       "      <td>0</td>\n",
       "      <td>...</td>\n",
       "      <td>0</td>\n",
       "      <td>0</td>\n",
       "      <td>0</td>\n",
       "      <td>0</td>\n",
       "      <td>0</td>\n",
       "      <td>0</td>\n",
       "      <td>1</td>\n",
       "      <td>0</td>\n",
       "      <td>0</td>\n",
       "      <td>0</td>\n",
       "    </tr>\n",
       "    <tr>\n",
       "      <th>63325</th>\n",
       "      <td>1</td>\n",
       "      <td>1</td>\n",
       "      <td>0</td>\n",
       "      <td>22</td>\n",
       "      <td>26.0</td>\n",
       "      <td>9.10</td>\n",
       "      <td>0</td>\n",
       "      <td>35</td>\n",
       "      <td>0</td>\n",
       "      <td>0</td>\n",
       "      <td>...</td>\n",
       "      <td>0</td>\n",
       "      <td>0</td>\n",
       "      <td>0</td>\n",
       "      <td>0</td>\n",
       "      <td>0</td>\n",
       "      <td>0</td>\n",
       "      <td>0</td>\n",
       "      <td>0</td>\n",
       "      <td>0</td>\n",
       "      <td>0</td>\n",
       "    </tr>\n",
       "  </tbody>\n",
       "</table>\n",
       "<p>60782 rows × 193 columns</p>\n",
       "</div>"
      ],
      "text/plain": [
       "       Agency Type  Distribution Channel  Claim  Duration  Net Sales  \\\n",
       "1                0                     0      0       186      -29.0   \n",
       "2                0                     1      0        65      -49.5   \n",
       "3                0                     1      0        60      -39.6   \n",
       "4                0                     1      0        79      -19.8   \n",
       "6                0                     1      0        47      -39.6   \n",
       "...            ...                   ...    ...       ...        ...   \n",
       "63321            1                     1      0       111       35.0   \n",
       "63322            1                     1      0        58       40.0   \n",
       "63323            1                     1      0         2       18.0   \n",
       "63324            1                     1      0         3       18.0   \n",
       "63325            1                     1      0        22       26.0   \n",
       "\n",
       "       Commision  Gender  Age  ADM  ART  ...  UNITED KINGDOM  UNITED STATES  \\\n",
       "1           9.57       0   71    0    0  ...               0              0   \n",
       "2          29.70       1   32    0    0  ...               0              0   \n",
       "3          23.76       1   32    0    0  ...               0              0   \n",
       "4          11.88       1   41    0    0  ...               0              0   \n",
       "6          23.76       1   32    0    0  ...               0              1   \n",
       "...          ...     ...  ...  ...  ...  ...             ...            ...   \n",
       "63321      12.25       1   31    0    0  ...               0              0   \n",
       "63322      14.00       0   40    0    0  ...               0              0   \n",
       "63323       6.30       1   57    0    0  ...               0              0   \n",
       "63324       6.30       1   63    0    0  ...               0              0   \n",
       "63325       9.10       0   35    0    0  ...               0              0   \n",
       "\n",
       "       URUGUAY  UZBEKISTAN  VANUATU  VENEZUELA  VIET NAM  \\\n",
       "1            0           0        0          0         0   \n",
       "2            0           0        0          0         0   \n",
       "3            0           0        0          0         0   \n",
       "4            0           0        0          0         0   \n",
       "6            0           0        0          0         0   \n",
       "...        ...         ...      ...        ...       ...   \n",
       "63321        0           0        0          0         0   \n",
       "63322        0           0        0          0         0   \n",
       "63323        0           0        0          0         0   \n",
       "63324        0           0        0          0         1   \n",
       "63325        0           0        0          0         0   \n",
       "\n",
       "       VIRGIN ISLANDS, U.S.  ZAMBIA  ZIMBABWE  \n",
       "1                         0       0         0  \n",
       "2                         0       0         0  \n",
       "3                         0       0         0  \n",
       "4                         0       0         0  \n",
       "6                         0       0         0  \n",
       "...                     ...     ...       ...  \n",
       "63321                     0       0         0  \n",
       "63322                     0       0         0  \n",
       "63323                     0       0         0  \n",
       "63324                     0       0         0  \n",
       "63325                     0       0         0  \n",
       "\n",
       "[60782 rows x 193 columns]"
      ]
     },
     "execution_count": 87,
     "metadata": {},
     "output_type": "execute_result"
    }
   ],
   "source": [
    "Product_name_dummies = pd.get_dummies(data['Product Name'])\n",
    "Destination_dummies = pd.get_dummies(data['Destination'])\n",
    "data = pd.concat((data, Product_name_dummies, Destination_dummies), axis = 1)\n",
    "data = data.drop(['Product Name', 'Destination'], axis = 1)\n",
    "data"
   ]
  },
  {
   "cell_type": "markdown",
   "id": "9816721d",
   "metadata": {},
   "source": [
    "# 5. Нормализация признаков"
   ]
  },
  {
   "cell_type": "markdown",
   "id": "67d3a937",
   "metadata": {},
   "source": [
    "Нормализуем признаки при помощи линейного преобразования к отрезку [0, 1]:"
   ]
  },
  {
   "cell_type": "code",
   "execution_count": 88,
   "id": "16ae082f",
   "metadata": {
    "scrolled": true
   },
   "outputs": [
    {
     "data": {
      "text/html": [
       "<div>\n",
       "<style scoped>\n",
       "    .dataframe tbody tr th:only-of-type {\n",
       "        vertical-align: middle;\n",
       "    }\n",
       "\n",
       "    .dataframe tbody tr th {\n",
       "        vertical-align: top;\n",
       "    }\n",
       "\n",
       "    .dataframe thead th {\n",
       "        text-align: right;\n",
       "    }\n",
       "</style>\n",
       "<table border=\"1\" class=\"dataframe\">\n",
       "  <thead>\n",
       "    <tr style=\"text-align: right;\">\n",
       "      <th></th>\n",
       "      <th>Agency Type</th>\n",
       "      <th>Distribution Channel</th>\n",
       "      <th>Claim</th>\n",
       "      <th>Duration</th>\n",
       "      <th>Net Sales</th>\n",
       "      <th>Commision</th>\n",
       "      <th>Gender</th>\n",
       "      <th>Age</th>\n",
       "      <th>ADM</th>\n",
       "      <th>ART</th>\n",
       "      <th>...</th>\n",
       "      <th>UNITED KINGDOM</th>\n",
       "      <th>UNITED STATES</th>\n",
       "      <th>URUGUAY</th>\n",
       "      <th>UZBEKISTAN</th>\n",
       "      <th>VANUATU</th>\n",
       "      <th>VENEZUELA</th>\n",
       "      <th>VIET NAM</th>\n",
       "      <th>VIRGIN ISLANDS, U.S.</th>\n",
       "      <th>ZAMBIA</th>\n",
       "      <th>ZIMBABWE</th>\n",
       "    </tr>\n",
       "  </thead>\n",
       "  <tbody>\n",
       "    <tr>\n",
       "      <th>count</th>\n",
       "      <td>60782.000000</td>\n",
       "      <td>60782.000000</td>\n",
       "      <td>60782.000000</td>\n",
       "      <td>60782.000000</td>\n",
       "      <td>60782.000000</td>\n",
       "      <td>60782.000000</td>\n",
       "      <td>60782.000000</td>\n",
       "      <td>60782.000000</td>\n",
       "      <td>60782.000000</td>\n",
       "      <td>60782.000000</td>\n",
       "      <td>...</td>\n",
       "      <td>60782.000000</td>\n",
       "      <td>60782.000000</td>\n",
       "      <td>60782.000000</td>\n",
       "      <td>60782.000000</td>\n",
       "      <td>60782.000000</td>\n",
       "      <td>60782.000000</td>\n",
       "      <td>60782.000000</td>\n",
       "      <td>60782.000000</td>\n",
       "      <td>60782.000000</td>\n",
       "      <td>60782.000000</td>\n",
       "    </tr>\n",
       "    <tr>\n",
       "      <th>mean</th>\n",
       "      <td>0.260011</td>\n",
       "      <td>0.985851</td>\n",
       "      <td>0.014017</td>\n",
       "      <td>0.114850</td>\n",
       "      <td>0.257534</td>\n",
       "      <td>0.073484</td>\n",
       "      <td>0.868497</td>\n",
       "      <td>0.338736</td>\n",
       "      <td>0.001135</td>\n",
       "      <td>0.004475</td>\n",
       "      <td>...</td>\n",
       "      <td>0.020829</td>\n",
       "      <td>0.037741</td>\n",
       "      <td>0.000016</td>\n",
       "      <td>0.000165</td>\n",
       "      <td>0.000082</td>\n",
       "      <td>0.000082</td>\n",
       "      <td>0.027409</td>\n",
       "      <td>0.000016</td>\n",
       "      <td>0.000033</td>\n",
       "      <td>0.000049</td>\n",
       "    </tr>\n",
       "    <tr>\n",
       "      <th>std</th>\n",
       "      <td>0.438644</td>\n",
       "      <td>0.118106</td>\n",
       "      <td>0.117563</td>\n",
       "      <td>0.168588</td>\n",
       "      <td>0.113903</td>\n",
       "      <td>0.136293</td>\n",
       "      <td>0.337952</td>\n",
       "      <td>0.174819</td>\n",
       "      <td>0.033674</td>\n",
       "      <td>0.066746</td>\n",
       "      <td>...</td>\n",
       "      <td>0.142811</td>\n",
       "      <td>0.190572</td>\n",
       "      <td>0.004056</td>\n",
       "      <td>0.012826</td>\n",
       "      <td>0.009069</td>\n",
       "      <td>0.009069</td>\n",
       "      <td>0.163275</td>\n",
       "      <td>0.004056</td>\n",
       "      <td>0.005736</td>\n",
       "      <td>0.007025</td>\n",
       "    </tr>\n",
       "    <tr>\n",
       "      <th>min</th>\n",
       "      <td>0.000000</td>\n",
       "      <td>0.000000</td>\n",
       "      <td>0.000000</td>\n",
       "      <td>0.000000</td>\n",
       "      <td>0.000000</td>\n",
       "      <td>0.000000</td>\n",
       "      <td>0.000000</td>\n",
       "      <td>0.000000</td>\n",
       "      <td>0.000000</td>\n",
       "      <td>0.000000</td>\n",
       "      <td>...</td>\n",
       "      <td>0.000000</td>\n",
       "      <td>0.000000</td>\n",
       "      <td>0.000000</td>\n",
       "      <td>0.000000</td>\n",
       "      <td>0.000000</td>\n",
       "      <td>0.000000</td>\n",
       "      <td>0.000000</td>\n",
       "      <td>0.000000</td>\n",
       "      <td>0.000000</td>\n",
       "      <td>0.000000</td>\n",
       "    </tr>\n",
       "    <tr>\n",
       "      <th>25%</th>\n",
       "      <td>0.000000</td>\n",
       "      <td>1.000000</td>\n",
       "      <td>0.000000</td>\n",
       "      <td>0.023196</td>\n",
       "      <td>0.197802</td>\n",
       "      <td>0.000000</td>\n",
       "      <td>1.000000</td>\n",
       "      <td>0.272727</td>\n",
       "      <td>0.000000</td>\n",
       "      <td>0.000000</td>\n",
       "      <td>...</td>\n",
       "      <td>0.000000</td>\n",
       "      <td>0.000000</td>\n",
       "      <td>0.000000</td>\n",
       "      <td>0.000000</td>\n",
       "      <td>0.000000</td>\n",
       "      <td>0.000000</td>\n",
       "      <td>0.000000</td>\n",
       "      <td>0.000000</td>\n",
       "      <td>0.000000</td>\n",
       "      <td>0.000000</td>\n",
       "    </tr>\n",
       "    <tr>\n",
       "      <th>50%</th>\n",
       "      <td>0.000000</td>\n",
       "      <td>1.000000</td>\n",
       "      <td>0.000000</td>\n",
       "      <td>0.056701</td>\n",
       "      <td>0.221245</td>\n",
       "      <td>0.000000</td>\n",
       "      <td>1.000000</td>\n",
       "      <td>0.290909</td>\n",
       "      <td>0.000000</td>\n",
       "      <td>0.000000</td>\n",
       "      <td>...</td>\n",
       "      <td>0.000000</td>\n",
       "      <td>0.000000</td>\n",
       "      <td>0.000000</td>\n",
       "      <td>0.000000</td>\n",
       "      <td>0.000000</td>\n",
       "      <td>0.000000</td>\n",
       "      <td>0.000000</td>\n",
       "      <td>0.000000</td>\n",
       "      <td>0.000000</td>\n",
       "      <td>0.000000</td>\n",
       "    </tr>\n",
       "    <tr>\n",
       "      <th>75%</th>\n",
       "      <td>1.000000</td>\n",
       "      <td>1.000000</td>\n",
       "      <td>0.000000</td>\n",
       "      <td>0.131443</td>\n",
       "      <td>0.279853</td>\n",
       "      <td>0.088605</td>\n",
       "      <td>1.000000</td>\n",
       "      <td>0.400000</td>\n",
       "      <td>0.000000</td>\n",
       "      <td>0.000000</td>\n",
       "      <td>...</td>\n",
       "      <td>0.000000</td>\n",
       "      <td>0.000000</td>\n",
       "      <td>0.000000</td>\n",
       "      <td>0.000000</td>\n",
       "      <td>0.000000</td>\n",
       "      <td>0.000000</td>\n",
       "      <td>0.000000</td>\n",
       "      <td>0.000000</td>\n",
       "      <td>0.000000</td>\n",
       "      <td>0.000000</td>\n",
       "    </tr>\n",
       "    <tr>\n",
       "      <th>max</th>\n",
       "      <td>1.000000</td>\n",
       "      <td>1.000000</td>\n",
       "      <td>1.000000</td>\n",
       "      <td>1.000000</td>\n",
       "      <td>1.000000</td>\n",
       "      <td>1.000000</td>\n",
       "      <td>1.000000</td>\n",
       "      <td>1.000000</td>\n",
       "      <td>1.000000</td>\n",
       "      <td>1.000000</td>\n",
       "      <td>...</td>\n",
       "      <td>1.000000</td>\n",
       "      <td>1.000000</td>\n",
       "      <td>1.000000</td>\n",
       "      <td>1.000000</td>\n",
       "      <td>1.000000</td>\n",
       "      <td>1.000000</td>\n",
       "      <td>1.000000</td>\n",
       "      <td>1.000000</td>\n",
       "      <td>1.000000</td>\n",
       "      <td>1.000000</td>\n",
       "    </tr>\n",
       "  </tbody>\n",
       "</table>\n",
       "<p>8 rows × 193 columns</p>\n",
       "</div>"
      ],
      "text/plain": [
       "        Agency Type  Distribution Channel         Claim      Duration  \\\n",
       "count  60782.000000          60782.000000  60782.000000  60782.000000   \n",
       "mean       0.260011              0.985851      0.014017      0.114850   \n",
       "std        0.438644              0.118106      0.117563      0.168588   \n",
       "min        0.000000              0.000000      0.000000      0.000000   \n",
       "25%        0.000000              1.000000      0.000000      0.023196   \n",
       "50%        0.000000              1.000000      0.000000      0.056701   \n",
       "75%        1.000000              1.000000      0.000000      0.131443   \n",
       "max        1.000000              1.000000      1.000000      1.000000   \n",
       "\n",
       "          Net Sales     Commision        Gender           Age           ADM  \\\n",
       "count  60782.000000  60782.000000  60782.000000  60782.000000  60782.000000   \n",
       "mean       0.257534      0.073484      0.868497      0.338736      0.001135   \n",
       "std        0.113903      0.136293      0.337952      0.174819      0.033674   \n",
       "min        0.000000      0.000000      0.000000      0.000000      0.000000   \n",
       "25%        0.197802      0.000000      1.000000      0.272727      0.000000   \n",
       "50%        0.221245      0.000000      1.000000      0.290909      0.000000   \n",
       "75%        0.279853      0.088605      1.000000      0.400000      0.000000   \n",
       "max        1.000000      1.000000      1.000000      1.000000      1.000000   \n",
       "\n",
       "                ART  ...  UNITED KINGDOM  UNITED STATES       URUGUAY  \\\n",
       "count  60782.000000  ...    60782.000000   60782.000000  60782.000000   \n",
       "mean       0.004475  ...        0.020829       0.037741      0.000016   \n",
       "std        0.066746  ...        0.142811       0.190572      0.004056   \n",
       "min        0.000000  ...        0.000000       0.000000      0.000000   \n",
       "25%        0.000000  ...        0.000000       0.000000      0.000000   \n",
       "50%        0.000000  ...        0.000000       0.000000      0.000000   \n",
       "75%        0.000000  ...        0.000000       0.000000      0.000000   \n",
       "max        1.000000  ...        1.000000       1.000000      1.000000   \n",
       "\n",
       "         UZBEKISTAN       VANUATU     VENEZUELA      VIET NAM  \\\n",
       "count  60782.000000  60782.000000  60782.000000  60782.000000   \n",
       "mean       0.000165      0.000082      0.000082      0.027409   \n",
       "std        0.012826      0.009069      0.009069      0.163275   \n",
       "min        0.000000      0.000000      0.000000      0.000000   \n",
       "25%        0.000000      0.000000      0.000000      0.000000   \n",
       "50%        0.000000      0.000000      0.000000      0.000000   \n",
       "75%        0.000000      0.000000      0.000000      0.000000   \n",
       "max        1.000000      1.000000      1.000000      1.000000   \n",
       "\n",
       "       VIRGIN ISLANDS, U.S.        ZAMBIA      ZIMBABWE  \n",
       "count          60782.000000  60782.000000  60782.000000  \n",
       "mean               0.000016      0.000033      0.000049  \n",
       "std                0.004056      0.005736      0.007025  \n",
       "min                0.000000      0.000000      0.000000  \n",
       "25%                0.000000      0.000000      0.000000  \n",
       "50%                0.000000      0.000000      0.000000  \n",
       "75%                0.000000      0.000000      0.000000  \n",
       "max                1.000000      1.000000      1.000000  \n",
       "\n",
       "[8 rows x 193 columns]"
      ]
     },
     "execution_count": 88,
     "metadata": {},
     "output_type": "execute_result"
    }
   ],
   "source": [
    "data_normalized = (data - data.min(axis=0)) / (data.max(axis=0) - data.min(axis=0))\n",
    "data_normalized.describe()"
   ]
  },
  {
   "cell_type": "markdown",
   "id": "40537183",
   "metadata": {},
   "source": [
    "# 6. Разбивка данных на обучающие и тестовые признаки"
   ]
  },
  {
   "cell_type": "markdown",
   "id": "c6526a3d",
   "metadata": {},
   "source": [
    "Выделяем целевой столбец из таблицы:"
   ]
  },
  {
   "cell_type": "code",
   "execution_count": 89,
   "id": "dcf4a280",
   "metadata": {},
   "outputs": [],
   "source": [
    "X = data_normalized.drop(['Claim'], axis = 1)\n",
    "y = data_normalized['Claim']"
   ]
  },
  {
   "cell_type": "markdown",
   "id": "6a9c832f",
   "metadata": {},
   "source": [
    "Разбиваем данные на обучающую и тестовую выборки в соотношении 3:1, т.е. в обучающую выборку попадет 75% объектов, в тестовую 25%"
   ]
  },
  {
   "cell_type": "code",
   "execution_count": 90,
   "id": "be6d57de",
   "metadata": {},
   "outputs": [
    {
     "data": {
      "text/plain": [
       "(45586, 15196)"
      ]
     },
     "execution_count": 90,
     "metadata": {},
     "output_type": "execute_result"
    }
   ],
   "source": [
    "from sklearn.model_selection import train_test_split\n",
    "X_train, X_test, y_train, y_test = train_test_split(X, y, test_size = 0.25, random_state = 100)\n",
    "\n",
    "N_train = X_train.shape[0]\n",
    "N_test = X_test.shape[0]\n",
    "N_train, N_test"
   ]
  },
  {
   "cell_type": "markdown",
   "id": "dd94a1ac",
   "metadata": {},
   "source": [
    "# 7. Классификатор ближайших соседей"
   ]
  },
  {
   "cell_type": "markdown",
   "id": "1d88e7a8",
   "metadata": {},
   "source": [
    "По-умолчанию количество ближайших соседей 5:"
   ]
  },
  {
   "cell_type": "code",
   "execution_count": 91,
   "id": "90378f49",
   "metadata": {},
   "outputs": [
    {
     "data": {
      "text/plain": [
       "KNeighborsClassifier()"
      ]
     },
     "execution_count": 91,
     "metadata": {},
     "output_type": "execute_result"
    }
   ],
   "source": [
    "from sklearn.neighbors import KNeighborsClassifier\n",
    "\n",
    "knn = KNeighborsClassifier()\n",
    "knn.fit(X_train, y_train)"
   ]
  },
  {
   "cell_type": "markdown",
   "id": "96fde13d",
   "metadata": {},
   "source": [
    "Попробуем с количеством соседей K = 1:"
   ]
  },
  {
   "cell_type": "code",
   "execution_count": 92,
   "id": "8037b298",
   "metadata": {},
   "outputs": [
    {
     "data": {
      "text/plain": [
       "KNeighborsClassifier(n_neighbors=1)"
      ]
     },
     "execution_count": 92,
     "metadata": {},
     "output_type": "execute_result"
    }
   ],
   "source": [
    "knn_1 = KNeighborsClassifier(n_neighbors = 1)\n",
    "knn_1.fit(X_train, y_train)"
   ]
  },
  {
   "cell_type": "markdown",
   "id": "f975fb38",
   "metadata": {},
   "source": [
    "С количеством соседей K = 8:"
   ]
  },
  {
   "cell_type": "code",
   "execution_count": 93,
   "id": "05fbbba3",
   "metadata": {
    "scrolled": true
   },
   "outputs": [
    {
     "data": {
      "text/plain": [
       "KNeighborsClassifier(n_neighbors=8)"
      ]
     },
     "execution_count": 93,
     "metadata": {},
     "output_type": "execute_result"
    }
   ],
   "source": [
    "knn_8 = KNeighborsClassifier(n_neighbors = 8)\n",
    "knn_8.fit(X_train, y_train)"
   ]
  },
  {
   "cell_type": "markdown",
   "id": "2b281c8b",
   "metadata": {},
   "source": [
    "# 8. Ошибки на обучающей и тестовой выборках"
   ]
  },
  {
   "cell_type": "code",
   "execution_count": 94,
   "id": "805a3ff1",
   "metadata": {},
   "outputs": [
    {
     "data": {
      "text/plain": [
       "(0.013885842144518054, 0.014477494077388787)"
      ]
     },
     "execution_count": 94,
     "metadata": {},
     "output_type": "execute_result"
    }
   ],
   "source": [
    "y_train_pred = knn.predict(X_train)\n",
    "y_test_pred = knn.predict(X_test)\n",
    "y_train_score = np.mean(y_train != y_train_pred)\n",
    "y_test_score = np.mean(y_test != y_test_pred)\n",
    "y_train_score, y_test_score"
   ]
  },
  {
   "cell_type": "markdown",
   "id": "f9a0fc9d",
   "metadata": {},
   "source": [
    "При использовании 5 ближайших соседей на обучающей выборке ошибка получилась 1.39%, на тестовой 1.44%"
   ]
  },
  {
   "cell_type": "code",
   "execution_count": 95,
   "id": "e82d998a",
   "metadata": {},
   "outputs": [
    {
     "data": {
      "text/plain": [
       "(0.0012942570087307508, 0.027244011581995263)"
      ]
     },
     "execution_count": 95,
     "metadata": {},
     "output_type": "execute_result"
    }
   ],
   "source": [
    "y_train_pred = knn_1.predict(X_train)\n",
    "y_test_pred = knn_1.predict(X_test)\n",
    "y_train_score = np.mean(y_train != y_train_pred)\n",
    "y_test_score = np.mean(y_test != y_test_pred)\n",
    "y_train_score, y_test_score"
   ]
  },
  {
   "cell_type": "markdown",
   "id": "b02fff91",
   "metadata": {},
   "source": [
    "При K = 1 на обучающей выборке ошибка получилась 0.13%, на тестовой 2.72%"
   ]
  },
  {
   "cell_type": "code",
   "execution_count": 96,
   "id": "3b336ff6",
   "metadata": {},
   "outputs": [
    {
     "data": {
      "text/plain": [
       "(0.013951651822928093, 0.014411687286127928)"
      ]
     },
     "execution_count": 96,
     "metadata": {},
     "output_type": "execute_result"
    }
   ],
   "source": [
    "y_train_pred = knn_8.predict(X_train)\n",
    "y_test_pred = knn_8.predict(X_test)\n",
    "y_train_score = np.mean(y_train != y_train_pred)\n",
    "y_test_score = np.mean(y_test != y_test_pred)\n",
    "y_train_score, y_test_score"
   ]
  },
  {
   "cell_type": "markdown",
   "id": "870415ff",
   "metadata": {},
   "source": [
    "При K = 8 ошибки 1.39% и 1.45% соответственно"
   ]
  },
  {
   "cell_type": "markdown",
   "id": "60691745",
   "metadata": {},
   "source": [
    "Использование классификатора ближайших соседей с количеством соседей 5 дает хороший результат на выборке. Увеличение количества соседей не приводит к улучушению результата, значения ошибки остаются неизменными.\n",
    "Однако при уменьшении количества ближайших соседей увеличивается ошибка на тестовой выборке (хотя и уменьшается на обучающей)."
   ]
  },
  {
   "cell_type": "markdown",
   "id": "e1dbc02a",
   "metadata": {},
   "source": [
    "# 9. Другие классификаторы"
   ]
  },
  {
   "cell_type": "markdown",
   "id": "97978382",
   "metadata": {},
   "source": [
    "## Random Forest"
   ]
  },
  {
   "cell_type": "code",
   "execution_count": 97,
   "id": "65d39313",
   "metadata": {
    "scrolled": true
   },
   "outputs": [
    {
     "name": "stdout",
     "output_type": "stream",
     "text": [
      "0.0011626376519106743 0.016188470650171097\n"
     ]
    }
   ],
   "source": [
    "from sklearn import ensemble\n",
    "rf = ensemble.RandomForestClassifier(n_estimators = 1000)\n",
    "rf.fit(X_train, y_train)\n",
    "\n",
    "err_train = np.mean(y_train != rf.predict(X_train))\n",
    "err_test  = np.mean(y_test  != rf.predict(X_test))\n",
    "\n",
    "print(err_train, err_test)"
   ]
  },
  {
   "cell_type": "markdown",
   "id": "cf012df5",
   "metadata": {},
   "source": [
    "Случайный лес показывает хороший результат на обучающей выборке, но на тестовой выборке ошибка чуть выше, чем в методе kNN."
   ]
  },
  {
   "cell_type": "markdown",
   "id": "ae0bf6df",
   "metadata": {},
   "source": [
    "Выведем значимость признаков:"
   ]
  },
  {
   "cell_type": "code",
   "execution_count": 98,
   "id": "f66fb658",
   "metadata": {
    "scrolled": true
   },
   "outputs": [
    {
     "name": "stdout",
     "output_type": "stream",
     "text": [
      "Feature ranking:\n",
      " 1. feature 'Duration' (0.356240)\n",
      " 2. feature '  Age' (0.292905)\n",
      " 3. feature 'Net Sales' (0.167230)\n",
      " 4. feature 'Commision' (0.093283)\n",
      " 5. feature 'Gender' (0.013822)\n",
      " 6. feature '  C2B' (0.007976)\n",
      " 7. feature 'SINGAPORE' (0.004142)\n",
      " 8. feature 'Annual Silver Plan' (0.004005)\n",
      " 9. feature 'Silver Plan' (0.002921)\n",
      "10. feature 'Bronze Plan' (0.002911)\n",
      "11. feature 'Agency Type' (0.002568)\n",
      "12. feature 'THAILAND' (0.002421)\n",
      "13. feature 'AUSTRALIA' (0.002362)\n",
      "14. feature 'MALAYSIA' (0.002333)\n",
      "15. feature 'UNITED KINGDOM' (0.002048)\n",
      "16. feature 'JAPAN' (0.001902)\n",
      "17. feature 'UNITED STATES' (0.001772)\n",
      "18. feature 'CHINA' (0.001757)\n",
      "19. feature 'HONG KONG' (0.001590)\n",
      "20. feature 'Cancellation Plan' (0.001528)\n",
      "21. feature 'CANADA' (0.001524)\n",
      "22. feature '  EPX' (0.001360)\n",
      "23. feature '2 way Comprehensive Plan' (0.001344)\n",
      "24. feature 'VIET NAM' (0.001255)\n",
      "25. feature 'TAIWAN, PROVINCE OF CHINA' (0.001205)\n",
      "26. feature 'NEW ZEALAND' (0.001199)\n",
      "27. feature 'ITALY' (0.001194)\n",
      "28. feature 'KOREA, REPUBLIC OF' (0.001068)\n",
      "29. feature 'Single Trip Travel Protect Platinum' (0.001060)\n",
      "30. feature 'NETHERLANDS' (0.001004)\n",
      "31. feature 'SOUTH AFRICA' (0.000955)\n",
      "32. feature 'BULGARIA' (0.000933)\n",
      "33. feature 'INDONESIA' (0.000903)\n",
      "34. feature 'Gold Plan' (0.000850)\n",
      "35. feature 'SPAIN' (0.000833)\n",
      "36. feature '  JZI' (0.000829)\n",
      "37. feature 'ARGENTINA' (0.000821)\n",
      "38. feature 'NEPAL' (0.000814)\n",
      "39. feature 'FRANCE' (0.000813)\n",
      "40. feature 'PHILIPPINES' (0.000802)\n",
      "41. feature 'SWITZERLAND' (0.000789)\n",
      "42. feature 'Basic Plan' (0.000741)\n",
      "43. feature 'ICELAND' (0.000705)\n",
      "44. feature 'Single Trip Travel Protect Gold' (0.000612)\n",
      "45. feature '1 way Comprehensive Plan' (0.000610)\n",
      "46. feature 'GERMANY' (0.000589)\n",
      "47. feature 'Value Plan' (0.000579)\n",
      "48. feature 'Rental Vehicle Excess Insurance' (0.000558)\n",
      "49. feature 'Distribution Channel' (0.000555)\n",
      "50. feature '  CWT' (0.000554)\n",
      "51. feature 'CZECH REPUBLIC' (0.000552)\n",
      "52. feature 'UNITED ARAB EMIRATES' (0.000546)\n",
      "53. feature '  LWC' (0.000524)\n",
      "54. feature 'INDIA' (0.000488)\n",
      "55. feature 'Single Trip Travel Protect Silver' (0.000447)\n",
      "56. feature 'ISRAEL' (0.000351)\n",
      "57. feature 'Annual Gold Plan' (0.000322)\n",
      "58. feature 'GREECE' (0.000295)\n",
      "59. feature 'MACAO' (0.000294)\n",
      "60. feature 'LAO PEOPLE'S DEMOCRATIC REPUBLIC' (0.000248)\n",
      "61. feature '  CCR' (0.000245)\n",
      "62. feature '  CSR' (0.000183)\n",
      "63. feature '  SSI' (0.000182)\n",
      "64. feature 'Ticket Protector' (0.000163)\n",
      "65. feature 'Premier Plan' (0.000128)\n",
      "66. feature 'Comprehensive Plan' (0.000122)\n",
      "67. feature 'CAMBODIA' (0.000120)\n",
      "68. feature 'MYANMAR' (0.000111)\n",
      "69. feature '  KML' (0.000108)\n",
      "70. feature 'AUSTRIA' (0.000105)\n",
      "71. feature 'Annual Travel Protect Silver' (0.000093)\n",
      "72. feature 'NORWAY' (0.000092)\n",
      "73. feature '  CBH' (0.000087)\n",
      "74. feature 'BRUNEI DARUSSALAM' (0.000083)\n",
      "75. feature 'SRI LANKA' (0.000077)\n",
      "76. feature '  RAB' (0.000072)\n",
      "77. feature '  TTW' (0.000067)\n",
      "78. feature 'Individual Comprehensive Plan' (0.000062)\n",
      "79. feature ' PERU' (0.000060)\n",
      "80. feature 'DENMARK' (0.000060)\n",
      "81. feature '  ART' (0.000055)\n",
      "82. feature 'CROATIA' (0.000055)\n",
      "83. feature 'Travel Cruise Protect' (0.000054)\n",
      "84. feature '  TST' (0.000053)\n",
      "85. feature 'PORTUGAL' (0.000048)\n",
      "86. feature 'FINLAND' (0.000044)\n",
      "87. feature '24 Protect' (0.000043)\n",
      "88. feature '  ADM' (0.000037)\n",
      "89. feature 'IRELAND' (0.000036)\n",
      "90. feature 'RUSSIAN FEDERATION' (0.000031)\n",
      "91. feature 'SWEDEN' (0.000029)\n",
      "92. feature 'TURKEY' (0.000027)\n",
      "93. feature 'BANGLADESH' (0.000026)\n",
      "94. feature 'POLAND' (0.000024)\n",
      "95. feature 'ECUADOR' (0.000021)\n",
      "96. feature 'SAUDI ARABIA' (0.000020)\n",
      "97. feature 'JORDAN' (0.000018)\n",
      "98. feature 'BELGIUM' (0.000018)\n",
      "99. feature 'FRENCH POLYNESIA' (0.000017)\n",
      "100. feature 'SLOVENIA' (0.000013)\n",
      "101. feature 'KAZAKHSTAN' (0.000013)\n",
      "102. feature 'MALDIVES' (0.000012)\n",
      "103. feature 'PAKISTAN' (0.000012)\n",
      "104. feature 'MEXICO' (0.000012)\n",
      "105. feature 'REPUBLIC OF MONTENEGRO' (0.000012)\n",
      "106. feature 'Spouse or Parents Comprehensive Plan' (0.000012)\n",
      "107. feature 'ROMANIA' (0.000011)\n",
      "108. feature 'BHUTAN' (0.000011)\n",
      "109. feature 'HUNGARY' (0.000011)\n",
      "110. feature 'MONGOLIA' (0.000009)\n",
      "111. feature 'CYPRUS' (0.000008)\n",
      "112. feature ' FIJI' (0.000008)\n",
      "113. feature ' GUAM' (0.000008)\n",
      "114. feature 'BRAZIL' (0.000007)\n",
      "115. feature 'TANZANIA, UNITED REPUBLIC OF' (0.000007)\n",
      "116. feature 'MOROCCO' (0.000007)\n",
      "117. feature 'MALTA' (0.000007)\n",
      "118. feature 'QATAR' (0.000006)\n",
      "119. feature 'COLOMBIA' (0.000006)\n",
      "120. feature 'BOLIVIA' (0.000006)\n",
      "121. feature 'KENYA' (0.000005)\n",
      "122. feature 'SERBIA' (0.000005)\n",
      "123. feature 'TUNISIA' (0.000005)\n",
      "124. feature 'LITHUANIA' (0.000005)\n",
      "125. feature 'EGYPT' (0.000005)\n",
      "126. feature 'BAHRAIN' (0.000005)\n",
      "127. feature 'ESTONIA' (0.000005)\n",
      "128. feature 'LUXEMBOURG' (0.000004)\n",
      "129. feature 'GEORGIA' (0.000003)\n",
      "130. feature 'CHILE' (0.000003)\n",
      "131. feature 'JAMAICA' (0.000003)\n",
      "132. feature 'COSTA RICA' (0.000003)\n",
      "133. feature 'UZBEKISTAN' (0.000003)\n",
      "134. feature ' OMAN' (0.000002)\n",
      "135. feature 'BOSNIA AND HERZEGOVINA' (0.000002)\n",
      "136. feature 'MAURITIUS' (0.000002)\n",
      "137. feature 'ETHIOPIA' (0.000002)\n",
      "138. feature 'CAYMAN ISLANDS' (0.000002)\n",
      "139. feature 'PANAMA' (0.000002)\n",
      "140. feature 'KUWAIT' (0.000002)\n",
      "141. feature 'FAROE ISLANDS' (0.000002)\n",
      "142. feature 'KYRGYZSTAN' (0.000002)\n",
      "143. feature 'NAMIBIA' (0.000001)\n",
      "144. feature 'GUINEA' (0.000001)\n",
      "145. feature 'UKRAINE' (0.000001)\n",
      "146. feature 'TRINIDAD AND TOBAGO' (0.000001)\n",
      "147. feature 'TURKS AND CAICOS ISLANDS' (0.000001)\n",
      "148. feature 'Travel Cruise Protect Family' (0.000001)\n",
      "149. feature 'AZERBAIJAN' (0.000001)\n",
      "150. feature 'PUERTO RICO' (0.000001)\n",
      "151. feature 'PAPUA NEW GUINEA' (0.000001)\n",
      "152. feature 'NORTHERN MARIANA ISLANDS' (0.000000)\n",
      "153. feature ' MALI' (0.000000)\n",
      "154. feature 'Child Comprehensive Plan' (0.000000)\n",
      "155. feature 'CAMEROON' (0.000000)\n",
      "156. feature 'LATVIA' (0.000000)\n",
      "157. feature 'GUYANA' (0.000000)\n",
      "158. feature 'MACEDONIA, THE FORMER YUGOSLAV REPUBLIC OF' (0.000000)\n",
      "159. feature 'ZIMBABWE' (0.000000)\n",
      "160. feature 'LEBANON' (0.000000)\n",
      "161. feature 'TAJIKISTAN' (0.000000)\n",
      "162. feature 'VENEZUELA' (0.000000)\n",
      "163. feature 'BOTSWANA' (0.000000)\n",
      "164. feature 'BERMUDA' (0.000000)\n",
      "165. feature 'BELARUS' (0.000000)\n",
      "166. feature 'REUNION' (0.000000)\n",
      "167. feature 'NIGERIA' (0.000000)\n",
      "168. feature 'GHANA' (0.000000)\n",
      "169. feature 'LIBYAN ARAB JAMAHIRIYA' (0.000000)\n",
      "170. feature 'IRAN, ISLAMIC REPUBLIC OF' (0.000000)\n",
      "171. feature 'SAMOA' (0.000000)\n",
      "172. feature 'SOLOMON ISLANDS' (0.000000)\n",
      "173. feature 'MOLDOVA, REPUBLIC OF' (0.000000)\n",
      "174. feature 'VANUATU' (0.000000)\n",
      "175. feature 'ARMENIA' (0.000000)\n",
      "176. feature 'TURKMENISTAN' (0.000000)\n",
      "177. feature 'UGANDA' (0.000000)\n",
      "178. feature 'ZAMBIA' (0.000000)\n",
      "179. feature 'SENEGAL' (0.000000)\n",
      "180. feature 'BENIN' (0.000000)\n",
      "181. feature 'GUADELOUPE' (0.000000)\n",
      "182. feature 'URUGUAY' (0.000000)\n",
      "183. feature 'RWANDA' (0.000000)\n",
      "184. feature 'GUINEA-BISSAU' (0.000000)\n",
      "185. feature 'GUATEMALA' (0.000000)\n",
      "186. feature 'ALBANIA' (0.000000)\n",
      "187. feature 'SIERRA LEONE' (0.000000)\n",
      "188. feature 'DOMINICAN REPUBLIC' (0.000000)\n",
      "189. feature 'SEYCHELLES' (0.000000)\n",
      "190. feature 'BARBADOS' (0.000000)\n",
      "191. feature 'VIRGIN ISLANDS, U.S.' (0.000000)\n",
      "192. feature 'NEW CALEDONIA' (0.000000)\n"
     ]
    }
   ],
   "source": [
    "np.sum(rf.feature_importances_)\n",
    "\n",
    "importances = rf.feature_importances_\n",
    "indices = np.argsort(importances)[::-1]\n",
    "\n",
    "print(\"Feature ranking:\")\n",
    "\n",
    "for f in range(indices.shape[0]):\n",
    "    print(\"%2d. feature '%5s' (%f)\" % (f + 1, X.columns[indices[f]], importances[indices[f]]))"
   ]
  },
  {
   "cell_type": "markdown",
   "id": "37bf6671",
   "metadata": {},
   "source": [
    "Наиболее значимыми признаками являются Duration, Age, Net Sales, Commision. Остальные признаки вносят меньший вклад в предсказание результата."
   ]
  },
  {
   "cell_type": "markdown",
   "id": "adf76a35",
   "metadata": {},
   "source": [
    "## Decision Tree"
   ]
  },
  {
   "cell_type": "code",
   "execution_count": 99,
   "id": "9bf3adf0",
   "metadata": {
    "scrolled": false
   },
   "outputs": [
    {
     "name": "stdout",
     "output_type": "stream",
     "text": [
      "Depth: 35\n",
      "Leaves: 1614\n",
      "0.0011626376519106743 0.028165306659647275\n"
     ]
    }
   ],
   "source": [
    "from sklearn.tree import DecisionTreeClassifier\n",
    "desTrCl = DecisionTreeClassifier()\n",
    "desTrCl.fit(X_train,y_train)\n",
    "\n",
    "print ('Depth:', desTrCl.get_depth())\n",
    "print ('Leaves:', desTrCl.get_n_leaves())\n",
    "\n",
    "err_train = np.mean(y_train != desTrCl.predict(X_train))\n",
    "err_test  = np.mean(y_test  != desTrCl.predict(X_test))\n",
    "\n",
    "print(err_train, err_test)"
   ]
  },
  {
   "cell_type": "markdown",
   "id": "81930a8f",
   "metadata": {},
   "source": [
    "Деревья решений также показывают хороший результат на обучающей выборке, но на тестовой выборке ошибка выше, чем в других методах."
   ]
  },
  {
   "cell_type": "markdown",
   "id": "8e48bbc8",
   "metadata": {},
   "source": [
    "## SVC"
   ]
  },
  {
   "cell_type": "code",
   "execution_count": 100,
   "id": "4640ce60",
   "metadata": {},
   "outputs": [
    {
     "name": "stdout",
     "output_type": "stream",
     "text": [
      "0.013907778703988067 0.014345880494867071\n"
     ]
    }
   ],
   "source": [
    "from sklearn.svm import SVC\n",
    "svc = SVC(gamma='auto')\n",
    "svc.fit(X_train, y_train)\n",
    "\n",
    "err_train = np.mean(y_train != svc.predict(X_train))\n",
    "err_test  = np.mean(y_test  != svc.predict(X_test))\n",
    "\n",
    "print(err_train, err_test)"
   ]
  },
  {
   "cell_type": "markdown",
   "id": "6cfb8bfc",
   "metadata": {},
   "source": [
    "Машина опорных векторов на данном датасете показывает похожий результат на kNN."
   ]
  },
  {
   "cell_type": "markdown",
   "id": "e1886b73",
   "metadata": {},
   "source": [
    "# 12. Общие выводы"
   ]
  },
  {
   "cell_type": "markdown",
   "id": "286784d8",
   "metadata": {},
   "source": [
    "В данной работе был проведен анализ датасета, содержащего данные о туристических страховках. Целевым признаком, который было необходимо предсказать, являлся категориальный признак Claim - наступление страхового случая по страховке. Была решена задача классификации с использованием методов kNN, Random Forest, Decision Tree, SVC.\n",
    "Проведенные этапы работы:\n",
    "1. Чтение данных, преобразование категориальных признаков, обработка выбросов\n",
    "2. Визуализация и вычисление основных характеристик\n",
    "3. Обработка пропущенных значений\n",
    "4. Обработка категориальных признаков\n",
    "5. Нормализация данных при помощи линейного преобразования к отрезку\n",
    "6. Разбиение данных на обучающие и тестовые выборки\n",
    "7. Запуск классификатора kNN\n",
    "8. Вычисление ошибок\n",
    "9. Запуск других классификаторов: случаный лес, деревья решений, машина опорных векторов\n",
    "10. Выводы\n",
    "\n",
    "Вывод по работе алгоритмов на данном датасете: kNN с числом соседей более 5 и SVC показали наилучшие результаты на тестовых выборках. Методы Random Forest и Decision Tree показали хорошие результаты с низким значением ошибки только на обучающей выборке, как и kNN с одним соседом."
   ]
  }
 ],
 "metadata": {
  "kernelspec": {
   "display_name": "Python 3",
   "language": "python",
   "name": "python3"
  },
  "language_info": {
   "codemirror_mode": {
    "name": "ipython",
    "version": 3
   },
   "file_extension": ".py",
   "mimetype": "text/x-python",
   "name": "python",
   "nbconvert_exporter": "python",
   "pygments_lexer": "ipython3",
   "version": "3.8.8"
  }
 },
 "nbformat": 4,
 "nbformat_minor": 5
}
